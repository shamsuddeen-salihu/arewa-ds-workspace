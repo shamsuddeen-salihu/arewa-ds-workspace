{
 "cells": [
  {
   "cell_type": "markdown",
   "metadata": {},
   "source": [
    "Exaercise: Level 1"
   ]
  },
  {
   "cell_type": "code",
   "execution_count": 18,
   "metadata": {},
   "outputs": [
    {
     "name": "stdout",
     "output_type": "stream",
     "text": [
      "Total: 5\n",
      "Area= 12.568\n",
      "Total= 15\n",
      "Temperature= 176.0 °F\n"
     ]
    }
   ],
   "source": [
    "#add two numbers\n",
    "def add_two_numbers(num1,num2):\n",
    "    Total=num1+num2\n",
    "    return Total\n",
    "print(f\"Total: {add_two_numbers(2,3)}\")\n",
    "\n",
    "#area of circle\n",
    "def area_of_circle(r):\n",
    "    area=3.142*r*r\n",
    "    return area\n",
    "print(f\"Area= {area_of_circle(2)}\")\n",
    "\n",
    "#add arbitrary numbers\n",
    "def add_all_nums(*nums):\n",
    "    total = 0\n",
    "    for num in nums:\n",
    "        if not isinstance(num, (int, float)):\n",
    "            return \"Error: All items must be numbers.\"\n",
    "        total += num    \n",
    "    return total  \n",
    "print(f\"Total= {add_all_nums(1,2,3,4,5)}\")\n",
    "\n",
    "#convert celsius to fahrenhiet\n",
    "def convert_celsius_to_fahrenheit(celcius):\n",
    "    fahrenheit=str((celcius*9/5)+32) + ' °F'\n",
    "    return fahrenheit\n",
    "print(f\"Temperature= {convert_celsius_to_fahrenheit(80)}\")"
   ]
  },
  {
   "cell_type": "markdown",
   "metadata": {},
   "source": [
    "Check Season"
   ]
  },
  {
   "cell_type": "code",
   "execution_count": 26,
   "metadata": {},
   "outputs": [
    {
     "name": "stdout",
     "output_type": "stream",
     "text": [
      "December\n",
      "The season is Winter\n"
     ]
    }
   ],
   "source": [
    "def check_seson(month):\n",
    "    print(month)\n",
    "    if month in ['September', 'October', 'November']:\n",
    "        return 'The season is Autumn'\n",
    "    elif month in ['December','January', 'February']:\n",
    "        return'The season is Winter'\n",
    "    elif month in ['March', 'April', 'May']:\n",
    "        return 'The season is Spring'  \n",
    "    elif month in ['June' ,'July', 'August']:\n",
    "        return 'The season is Summer' \n",
    "    else:\n",
    "        return 'invalid month'\n",
    "print(check_seson(input(\"Enter the month:\"))) \n",
    "    \n",
    "    "
   ]
  },
  {
   "cell_type": "code",
   "execution_count": 27,
   "metadata": {},
   "outputs": [
    {
     "name": "stdout",
     "output_type": "stream",
     "text": [
      "The slope is: 2\n"
     ]
    }
   ],
   "source": [
    "#calculate slope\n",
    "def calculate_slope(m, b):\n",
    "    return m\n",
    "print(\"The slope is:\", calculate_slope(2, 3))"
   ]
  },
  {
   "cell_type": "code",
   "execution_count": 29,
   "metadata": {},
   "outputs": [
    {
     "name": "stdout",
     "output_type": "stream",
     "text": [
      "the solutions are: (1.0, -3.0)\n"
     ]
    }
   ],
   "source": [
    "#quadratic equation\n",
    "import math\n",
    "def solve_quadratic_eqn(a,b,c):\n",
    "    D=math.sqrt(b**2 - 4*a*c)\n",
    "    root1 = (-b+D)/(2*a)\n",
    "    root2 = (-b-D)/(2*a)\n",
    "    return root1, root2\n",
    "solution_set=solve_quadratic_eqn(1,2,-3)\n",
    "print('the solutions are:',solution_set)"
   ]
  },
  {
   "cell_type": "code",
   "execution_count": 42,
   "metadata": {},
   "outputs": [
    {
     "name": "stdout",
     "output_type": "stream",
     "text": [
      "apple\n",
      "orange\n",
      "mango\n",
      "5\n"
     ]
    }
   ],
   "source": [
    "#print list\n",
    "def print_list(item_list):\n",
    "    for item in item_list:\n",
    "        print(item)\n",
    "item_list=['apple','orange','mango',5]   \n",
    "print_list(item_list)\n",
    "    "
   ]
  },
  {
   "cell_type": "code",
   "execution_count": 48,
   "metadata": {},
   "outputs": [
    {
     "name": "stdout",
     "output_type": "stream",
     "text": [
      "[5, 4, 3, 2, 1]\n"
     ]
    }
   ],
   "source": [
    "#reverse list\n",
    "def reverse_list(my_list):\n",
    "    reversed_list=[]\n",
    "    index=len(my_list)-1\n",
    "    while index >=0:\n",
    "        reversed_list.append(my_list[index])\n",
    "        index-=1\n",
    "    return reversed_list\n",
    "print(reverse_list([1,2,3,4,5]))\n"
   ]
  },
  {
   "cell_type": "code",
   "execution_count": 65,
   "metadata": {},
   "outputs": [
    {
     "name": "stdout",
     "output_type": "stream",
     "text": [
      "['Google', 'Facebook', 'Apple']\n"
     ]
    }
   ],
   "source": [
    "#capitalize list item\n",
    "def capitalize_list_items(items_list):\n",
    "    capitalized_list=[]\n",
    "    for item in items_list:\n",
    "        capitalized_list.append(item.capitalize())\n",
    "    return capitalized_list\n",
    "print(capitalize_list_items(['google','facebook','apple']))"
   ]
  },
  {
   "cell_type": "code",
   "execution_count": 66,
   "metadata": {},
   "outputs": [
    {
     "name": "stdout",
     "output_type": "stream",
     "text": [
      "['faceebook', 'apple', 'google', 'microsoft']\n"
     ]
    }
   ],
   "source": [
    "#add items\n",
    "def add_items(item_list,item):\n",
    "    item_list.append(item)\n",
    "    return item_list\n",
    "item_list=['faceebook','apple','google']\n",
    "print(add_items(item_list,'microsoft'))"
   ]
  },
  {
   "cell_type": "code",
   "execution_count": 76,
   "metadata": {},
   "outputs": [
    {
     "name": "stdout",
     "output_type": "stream",
     "text": [
      "['faceebook', 'google']\n"
     ]
    }
   ],
   "source": [
    "#remove item\n",
    "def remove_item(item_list,item):\n",
    "    item_list.remove(item)\n",
    "    return item_list\n",
    "item_list=['faceebook','apple','google']\n",
    "print(remove_item(item_list,'apple'))"
   ]
  },
  {
   "cell_type": "code",
   "execution_count": 96,
   "metadata": {},
   "outputs": [
    {
     "name": "stdout",
     "output_type": "stream",
     "text": [
      "Total sum: 55\n"
     ]
    }
   ],
   "source": [
    "#sum of all numbers within a range\n",
    "def sum_of_numbers(number):\n",
    "    total_sum=0\n",
    "    for numb in range(number+1):\n",
    "        total_sum=total_sum + numb\n",
    "    return total_sum\n",
    "print(f\"Total sum: {sum_of_numbers(10)}\")"
   ]
  },
  {
   "cell_type": "code",
   "execution_count": 100,
   "metadata": {},
   "outputs": [
    {
     "name": "stdout",
     "output_type": "stream",
     "text": [
      "1\n",
      "3\n",
      "5\n",
      "7\n",
      "9\n",
      "Total sum odd: 25\n"
     ]
    }
   ],
   "source": [
    "#sum of odd numbers in a range\n",
    "def sum_of_odds(number):\n",
    "    total_sum=0\n",
    "    for numb in range(number+1):\n",
    "        if numb%2!=0:\n",
    "            total_sum=total_sum + numb\n",
    "            print(numb)\n",
    "    return total_sum\n",
    "print(f\"Total sum odd: {sum_of_odds(10)}\")"
   ]
  },
  {
   "cell_type": "code",
   "execution_count": 101,
   "metadata": {},
   "outputs": [
    {
     "name": "stdout",
     "output_type": "stream",
     "text": [
      "0\n",
      "2\n",
      "4\n",
      "6\n",
      "8\n",
      "10\n",
      "Total sum even: 30\n"
     ]
    }
   ],
   "source": [
    "#sum of even numbers in a range\n",
    "def sum_of_even(number):\n",
    "    total_sum=0\n",
    "    for numb in range(number+1):\n",
    "        if numb%2==0:\n",
    "            total_sum=total_sum + numb\n",
    "            print(numb)\n",
    "    return total_sum\n",
    "print(f\"Total sum even: {sum_of_even(10)}\")"
   ]
  },
  {
   "cell_type": "markdown",
   "metadata": {},
   "source": [
    "Level 2"
   ]
  },
  {
   "cell_type": "code",
   "execution_count": 103,
   "metadata": {},
   "outputs": [
    {
     "name": "stdout",
     "output_type": "stream",
     "text": [
      "The number of odds is: 50\n",
      "The number of even is: 51\n"
     ]
    }
   ],
   "source": [
    "#even and odds\n",
    "def even_and_odds(number):\n",
    "    even_numb=[]\n",
    "    odd_numb=[]\n",
    "    for numb in range(number+1):\n",
    "        if numb%2!=0:\n",
    "            odd_numb.append(numb)\n",
    "        else:\n",
    "            even_numb.append(numb)\n",
    "    print(\"The number of odds is:\", len(odd_numb))\n",
    "    print(\"The number of even is:\", len(even_numb))\n",
    "even_and_odds(100)\n",
    "\n"
   ]
  },
  {
   "cell_type": "code",
   "execution_count": 109,
   "metadata": {},
   "outputs": [
    {
     "name": "stdout",
     "output_type": "stream",
     "text": [
      "Factorial of 5: 120\n",
      "Is the list empty? True\n"
     ]
    }
   ],
   "source": [
    "#factorial\n",
    "def factorial(number):\n",
    "    if number == 0 or number == 1:\n",
    "        return 1\n",
    "    else:\n",
    "        return number * factorial(number - 1)\n",
    "print(\"Factorial of 5:\", factorial(5))\n",
    "\n",
    "#is empty\n",
    "def is_empty(list):\n",
    "    return not bool(list)\n",
    "list = []\n",
    "print(\"Is the list empty?\", is_empty(list))\n"
   ]
  },
  {
   "cell_type": "code",
   "execution_count": 120,
   "metadata": {},
   "outputs": [
    {
     "name": "stdout",
     "output_type": "stream",
     "text": [
      "Mean: 3.2\n",
      "Median: 3.0\n",
      "Mode: [3]\n",
      "Range: 4\n",
      "Variance:, 1.56\n",
      "Standard Deviation:, 1.25\n"
     ]
    }
   ],
   "source": [
    "#Statistics\n",
    "def calculate_mean(data):\n",
    "    return sum(data) / len(data)\n",
    "\n",
    "def calculate_median(data):\n",
    "    sorted_data = sorted(data)\n",
    "    n = len(data)\n",
    "    if n % 2 == 0:\n",
    "        mid1 = sorted_data[n // 2 - 1]\n",
    "        mid2 = sorted_data[n // 2]\n",
    "        return (mid1 + mid2) / 2\n",
    "    else:\n",
    "        return sorted_data[n // 2]\n",
    "\n",
    "from collections import Counter\n",
    "\n",
    "def calculate_mode(data):\n",
    "    counts = Counter(data)\n",
    "    mode_list = []\n",
    "    for element, count in counts.items(): \n",
    "        if count == max(counts.values()):\n",
    "            mode_list.append(element)\n",
    "    return mode_list\n",
    "\n",
    "def calculate_range(data):\n",
    "    return max(data) - min(data)\n",
    "\n",
    "def calculate_variance(data):\n",
    "    mean = calculate_mean(data)\n",
    "    squared_diff = [(x - mean) ** 2 for x in data]\n",
    "    variance = sum(squared_diff) / len(data)\n",
    "    return variance\n",
    "\n",
    "def calculate_std(data):\n",
    "    return calculate_variance(data) ** 0.5\n",
    "\n",
    "\n",
    "data = [1, 2, 3, 4, 5]\n",
    "data_set = [1, 2, 2, 3, 3, 3, 4, 4, 5, 5]\n",
    "\n",
    "\n",
    "print(\"Mean:\", calculate_mean(data_set))\n",
    "print(\"Median:\", calculate_median(data_set))\n",
    "print(\"Mode:\", calculate_mode(data_set))\n",
    "print(\"Range:\", calculate_range(data_set))\n",
    "print(f\"Variance:, {calculate_variance(data_set):.2f}\")\n",
    "print(f\"Standard Deviation:, {calculate_std(data_set):.2f}\")"
   ]
  },
  {
   "cell_type": "markdown",
   "metadata": {},
   "source": [
    "Level 3"
   ]
  },
  {
   "cell_type": "code",
   "execution_count": 129,
   "metadata": {},
   "outputs": [
    {
     "name": "stdout",
     "output_type": "stream",
     "text": [
      "7\n",
      "7 is a prime number: True\n"
     ]
    }
   ],
   "source": [
    "#check prime\n",
    "def is_prime(number):\n",
    "    if number < 2:\n",
    "        return False\n",
    "    for i in range(2, int(number**0.5) + 1):\n",
    "        if number % i == 0:\n",
    "            return False\n",
    "    return True\n",
    "\n",
    "number=int(input(\"Enter the number\"))\n",
    "print(number)\n",
    "print(f\"{number} is a prime number: {is_prime(number)}\") \n",
    "\n",
    "    "
   ]
  },
  {
   "cell_type": "code",
   "execution_count": 136,
   "metadata": {},
   "outputs": [
    {
     "name": "stdout",
     "output_type": "stream",
     "text": [
      "[1, 2, 3, 4, 6, 7] all the items are unique: True\n",
      "[1, 2, 3, 3, 4, 6, 6, 7] all the items are unique: False\n"
     ]
    }
   ],
   "source": [
    "#all unique\n",
    "def are_all_item_unique(list):\n",
    "    return len(list)==len(set(list))\n",
    "\n",
    "list=[1,2,3,4,6,7]\n",
    "list2=[1,2,3,3,4,6,6,7]\n",
    "print(f\"{list} all the items are unique: {are_all_item_unique(list)}\")\n",
    "print(f\"{list2} all the items are unique: {are_all_item_unique(list2)}\")"
   ]
  },
  {
   "cell_type": "code",
   "execution_count": 137,
   "metadata": {},
   "outputs": [
    {
     "name": "stdout",
     "output_type": "stream",
     "text": [
      "True\n",
      "False\n"
     ]
    }
   ],
   "source": [
    "#all same type\n",
    "def are_all_same_type(lst):\n",
    "    return all(isinstance(item, type(lst[0])) for item in lst)\n",
    "\n",
    "print(are_all_same_type([1, 2, 3, 4, 5]))          \n",
    "print(are_all_same_type([1, 2, 'three', 4, 5]))      "
   ]
  }
 ],
 "metadata": {
  "kernelspec": {
   "display_name": "datascience",
   "language": "python",
   "name": "python3"
  },
  "language_info": {
   "codemirror_mode": {
    "name": "ipython",
    "version": 3
   },
   "file_extension": ".py",
   "mimetype": "text/x-python",
   "name": "python",
   "nbconvert_exporter": "python",
   "pygments_lexer": "ipython3",
   "version": "3.8.18"
  }
 },
 "nbformat": 4,
 "nbformat_minor": 2
}
