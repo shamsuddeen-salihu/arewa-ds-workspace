{
 "cells": [
  {
   "cell_type": "markdown",
   "metadata": {},
   "source": [
    "Exaercise: Level 1"
   ]
  },
  {
   "cell_type": "code",
   "execution_count": 18,
   "metadata": {},
   "outputs": [
    {
     "name": "stdout",
     "output_type": "stream",
     "text": [
      "Total: 5\n",
      "Area= 12.568\n",
      "Total= 15\n",
      "Temperature= 176.0 °F\n"
     ]
    }
   ],
   "source": [
    "#add two numbers\n",
    "def add_two_numbers(num1,num2):\n",
    "    Total=num1+num2\n",
    "    return Total\n",
    "print(f\"Total: {add_two_numbers(2,3)}\")\n",
    "\n",
    "#area of circle\n",
    "def area_of_circle(r):\n",
    "    area=3.142*r*r\n",
    "    return area\n",
    "print(f\"Area= {area_of_circle(2)}\")\n",
    "\n",
    "#add arbitrary numbers\n",
    "def add_all_nums(*nums):\n",
    "    total = 0\n",
    "    for num in nums:\n",
    "        if not isinstance(num, (int, float)):\n",
    "            return \"Error: All items must be numbers.\"\n",
    "        total += num    \n",
    "    return total  \n",
    "print(f\"Total= {add_all_nums(1,2,3,4,5)}\")\n",
    "\n",
    "#convert celsius to fahrenhiet\n",
    "def convert_celsius_to_fahrenheit(celcius):\n",
    "    fahrenheit=str((celcius*9/5)+32) + ' °F'\n",
    "    return fahrenheit\n",
    "print(f\"Temperature= {convert_celsius_to_fahrenheit(80)}\")"
   ]
  },
  {
   "cell_type": "markdown",
   "metadata": {},
   "source": [
    "Check Season"
   ]
  },
  {
   "cell_type": "code",
   "execution_count": 26,
   "metadata": {},
   "outputs": [
    {
     "name": "stdout",
     "output_type": "stream",
     "text": [
      "December\n",
      "The season is Winter\n"
     ]
    }
   ],
   "source": [
    "def check_seson(month):\n",
    "    print(month)\n",
    "    if month in ['September', 'October', 'November']:\n",
    "        return 'The season is Autumn'\n",
    "    elif month in ['December','January', 'February']:\n",
    "        return'The season is Winter'\n",
    "    elif month in ['March', 'April', 'May']:\n",
    "        return 'The season is Spring'  \n",
    "    elif month in ['June' ,'July', 'August']:\n",
    "        return 'The season is Summer' \n",
    "    else:\n",
    "        return 'invalid month'\n",
    "print(check_seson(input(\"Enter the month:\"))) \n",
    "    \n",
    "    "
   ]
  },
  {
   "cell_type": "code",
   "execution_count": 27,
   "metadata": {},
   "outputs": [
    {
     "name": "stdout",
     "output_type": "stream",
     "text": [
      "The slope is: 2\n"
     ]
    }
   ],
   "source": [
    "#calculate slope\n",
    "def calculate_slope(m, b):\n",
    "    return m\n",
    "print(\"The slope is:\", calculate_slope(2, 3))"
   ]
  },
  {
   "cell_type": "code",
   "execution_count": 29,
   "metadata": {},
   "outputs": [
    {
     "name": "stdout",
     "output_type": "stream",
     "text": [
      "the solutions are: (1.0, -3.0)\n"
     ]
    }
   ],
   "source": [
    "#quadratic equation\n",
    "import math\n",
    "def solve_quadratic_eqn(a,b,c):\n",
    "    D=math.sqrt(b**2 - 4*a*c)\n",
    "    root1 = (-b+D)/(2*a)\n",
    "    root2 = (-b-D)/(2*a)\n",
    "    return root1, root2\n",
    "solution_set=solve_quadratic_eqn(1,2,-3)\n",
    "print('the solutions are:',solution_set)"
   ]
  },
  {
   "cell_type": "code",
   "execution_count": 42,
   "metadata": {},
   "outputs": [
    {
     "name": "stdout",
     "output_type": "stream",
     "text": [
      "apple\n",
      "orange\n",
      "mango\n",
      "5\n"
     ]
    }
   ],
   "source": [
    "#print list\n",
    "def print_list(item_list):\n",
    "    for item in item_list:\n",
    "        print(item)\n",
    "item_list=['apple','orange','mango',5]   \n",
    "print_list(item_list)\n",
    "    "
   ]
  },
  {
   "cell_type": "code",
   "execution_count": 48,
   "metadata": {},
   "outputs": [
    {
     "name": "stdout",
     "output_type": "stream",
     "text": [
      "[5, 4, 3, 2, 1]\n"
     ]
    }
   ],
   "source": [
    "#reverse list\n",
    "def reverse_list(my_list):\n",
    "    reversed_list=[]\n",
    "    index=len(my_list)-1\n",
    "    while index >=0:\n",
    "        reversed_list.append(my_list[index])\n",
    "        index-=1\n",
    "    return reversed_list\n",
    "print(reverse_list([1,2,3,4,5]))\n"
   ]
  },
  {
   "cell_type": "code",
   "execution_count": 65,
   "metadata": {},
   "outputs": [
    {
     "name": "stdout",
     "output_type": "stream",
     "text": [
      "['Google', 'Facebook', 'Apple']\n"
     ]
    }
   ],
   "source": [
    "#capitalize list item\n",
    "def capitalize_list_items(items_list):\n",
    "    capitalized_list=[]\n",
    "    for item in items_list:\n",
    "        capitalized_list.append(item.capitalize())\n",
    "    return capitalized_list\n",
    "print(capitalize_list_items(['google','facebook','apple']))"
   ]
  },
  {
   "cell_type": "code",
   "execution_count": 66,
   "metadata": {},
   "outputs": [
    {
     "name": "stdout",
     "output_type": "stream",
     "text": [
      "['faceebook', 'apple', 'google', 'microsoft']\n"
     ]
    }
   ],
   "source": [
    "#add items\n",
    "def add_items(item_list,item):\n",
    "    item_list.append(item)\n",
    "    return item_list\n",
    "item_list=['faceebook','apple','google']\n",
    "print(add_items(item_list,'microsoft'))"
   ]
  },
  {
   "cell_type": "code",
   "execution_count": 76,
   "metadata": {},
   "outputs": [
    {
     "name": "stdout",
     "output_type": "stream",
     "text": [
      "['faceebook', 'google']\n"
     ]
    }
   ],
   "source": [
    "#remove item\n",
    "def remove_item(item_list,item):\n",
    "    item_list.remove(item)\n",
    "    return item_list\n",
    "item_list=['faceebook','apple','google']\n",
    "print(remove_item(item_list,'apple'))"
   ]
  }
 ],
 "metadata": {
  "kernelspec": {
   "display_name": "datascience",
   "language": "python",
   "name": "python3"
  },
  "language_info": {
   "codemirror_mode": {
    "name": "ipython",
    "version": 3
   },
   "file_extension": ".py",
   "mimetype": "text/x-python",
   "name": "python",
   "nbconvert_exporter": "python",
   "pygments_lexer": "ipython3",
   "version": "3.8.18"
  }
 },
 "nbformat": 4,
 "nbformat_minor": 2
}
