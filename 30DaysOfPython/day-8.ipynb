{
 "cells": [
  {
   "cell_type": "markdown",
   "metadata": {},
   "source": [
    "Exaercise Day 8"
   ]
  },
  {
   "cell_type": "code",
   "execution_count": 25,
   "metadata": {},
   "outputs": [
    {
     "name": "stdout",
     "output_type": "stream",
     "text": [
      "{'name': 'bingo', 'breed': 'german', 'legs': 'short', 'age': '5'}\n",
      "{'first_name': 'Shamsu', 'last_name': 'Salihu', 'gender': 'male', 'age': 20, 'marital status': 'Single', 'skills': ['coding', 'comunication', 'problem solving'], 'country': 'Nigeria', 'city': 'Kano', 'address': 'Dorayi'}\n",
      "9\n",
      "['coding', 'comunication', 'problem solving']\n",
      "<class 'list'>\n",
      "['coding', 'comunication', 'problem solving', 'python', 'Html']\n",
      "dict_keys(['first_name', 'last_name', 'gender', 'age', 'marital status', 'skills', 'country', 'city', 'address'])\n",
      "dict_values(['Shamsu', 'Salihu', 'male', 20, 'Single', ['coding', 'comunication', 'problem solving', 'python', 'Html'], 'Nigeria', 'Kano', 'Dorayi'])\n",
      "dict_items([('first_name', 'Shamsu'), ('last_name', 'Salihu'), ('gender', 'male'), ('age', 20), ('marital status', 'Single'), ('skills', ['coding', 'comunication', 'problem solving', 'python', 'Html']), ('country', 'Nigeria'), ('city', 'Kano'), ('address', 'Dorayi')])\n"
     ]
    }
   ],
   "source": [
    "dog={}\n",
    "dog={'name':'bingo','breed':'german','legs':'short','age':'5'}\n",
    "print(dog)\n",
    "student={'first_name':'Shamsu','last_name':'Salihu','gender':'male', 'age':20, 'marital status':'Single','skills':['coding','comunication','problem solving'], 'country':'Nigeria', 'city':'Kano', 'address':'Dorayi'}\n",
    "print(student)\n",
    "print(len(student))\n",
    "print(student.get('skills'))\n",
    "print(type(student.get('skills')))\n",
    "student['skills'].append('python')\n",
    "student['skills'].append('Html')\n",
    "print(student.get('skills'))\n",
    "print(student.keys())\n",
    "print(student.values())\n",
    "print(student.items())\n",
    "student.popitem()\n",
    "del dog\n"
   ]
  }
 ],
 "metadata": {
  "kernelspec": {
   "display_name": "datascience",
   "language": "python",
   "name": "python3"
  },
  "language_info": {
   "codemirror_mode": {
    "name": "ipython",
    "version": 3
   },
   "file_extension": ".py",
   "mimetype": "text/x-python",
   "name": "python",
   "nbconvert_exporter": "python",
   "pygments_lexer": "ipython3",
   "version": "3.8.18"
  }
 },
 "nbformat": 4,
 "nbformat_minor": 2
}
