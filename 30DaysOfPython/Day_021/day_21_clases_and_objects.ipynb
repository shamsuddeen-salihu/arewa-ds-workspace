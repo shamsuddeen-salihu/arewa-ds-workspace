{
 "cells": [
  {
   "cell_type": "markdown",
   "metadata": {},
   "source": [
    "Exercises: Day 21\n",
    "Exercises: Level 1\n",
    "Python has the module called statistics and we can use this module to do all the statistical calculations. However, to learn how to make function and reuse function let us try to develop a program, which calculates the measure of central tendency of a sample (mean, median, mode) and measure of variability (range, variance, standard deviation). In addition to those measures, find the min, max, count, percentile, and frequency distribution of the sample. You can create a class called Statistics and create all the functions that do statistical calculations as methods for the Statistics class. Check the output below."
   ]
  },
  {
   "cell_type": "code",
   "execution_count": 19,
   "metadata": {},
   "outputs": [
    {
     "name": "stdout",
     "output_type": "stream",
     "text": [
      "Count: 25\n",
      "Sum:  744\n",
      "Min:  24\n",
      "Max:  38\n",
      "Range:  14\n",
      "Mean:  29.76\n",
      "Median:  29\n",
      "Mode:  26\n",
      "Standard Deviation:  4.27\n",
      "Variance:  18.27\n",
      "Frequency Distribution:  [(31.0, 2), (26.0, 5), (34.0, 2), (37.0, 2), (27.0, 4), (32.0, 3), (24.0, 2), (33.0, 2), (25.0, 1), (38.0, 1), (29.0, 1)]\n"
     ]
    }
   ],
   "source": [
    "import statistics as stats\n",
    "from collections import Counter\n",
    "class Statistics:\n",
    "    def __init__(self, data):\n",
    "        self.data=data\n",
    "    def count(self):\n",
    "        return len(self.data)\n",
    "    def sum(self):\n",
    "        return sum(self.data)\n",
    "    def min(self):\n",
    "        return min(self.data)\n",
    "    def max(self):\n",
    "        return max(self.data)\n",
    "    def range(self):\n",
    "        return max(self.data) - min(self.data)\n",
    "    def mean(self):\n",
    "        return stats.mean(self.data)\n",
    "    def median(self):\n",
    "        return stats.median(self.data)\n",
    "    def mode(self):\n",
    "        return stats.mode(self.data)\n",
    "    def std(self):\n",
    "        return f'{stats.stdev(self.data):.2f}'\n",
    "    def var(self):\n",
    "        return f'{stats.variance(self.data):.2f}'\n",
    "    def freq_dist(self):\n",
    "        counter=Counter(self.data)\n",
    "        freq_list=[(float(value),freq) for value,freq in counter.items()]\n",
    "        return freq_list\n",
    "ages = [31, 26, 34, 37, 27, 26, 32, 32, 26, 27, 27, 24, 32, 33, 27, 25, 26, 38, 37, 31, 34, 24, 33, 29, 26]\n",
    "Statistics_calc=Statistics(ages)\n",
    "print('Count:', Statistics_calc.count()) \n",
    "print('Sum: ', Statistics_calc.sum()) \n",
    "print('Min: ', Statistics_calc.min()) \n",
    "print('Max: ', Statistics_calc.max()) \n",
    "print('Range: ', Statistics_calc.range()) \n",
    "print('Mean: ', Statistics_calc.mean()) \n",
    "print('Median: ', Statistics_calc.median()) \n",
    "print('Mode: ', Statistics_calc.mode()) \n",
    "print('Standard Deviation: ', Statistics_calc.std()) \n",
    "print('Variance: ', Statistics_calc.var()) \n",
    "print('Frequency Distribution: ', Statistics_calc.freq_dist())\n"
   ]
  },
  {
   "cell_type": "markdown",
   "metadata": {},
   "source": [
    "Create a class called PersonAccount. It has firstname, lastname, incomes, expenses properties and it has total_income, total_expense, account_info, add_income, add_expense and account_balance methods. Incomes is a set of incomes and its description. The same goes for expenses.\n"
   ]
  },
  {
   "cell_type": "code",
   "execution_count": 22,
   "metadata": {},
   "outputs": [
    {
     "name": "stdout",
     "output_type": "stream",
     "text": [
      "Account Information for Shamsuddeen Salihu\n",
      "Total Income: 5000\n",
      "Total Expense: 3000\n",
      "Account Balance: 2000\n"
     ]
    },
    {
     "data": {
      "text/plain": [
       "5000"
      ]
     },
     "execution_count": 22,
     "metadata": {},
     "output_type": "execute_result"
    }
   ],
   "source": [
    "class PersonAccount:\n",
    "    def __init__(self, firstname, lastname):\n",
    "        self.firstname = firstname\n",
    "        self.lastname = lastname\n",
    "        self.incomes = []\n",
    "        self.expenses = []\n",
    "    def add_income(self, amount, description):\n",
    "        self.incomes.append({'amount':amount, 'description':description})\n",
    "    \n",
    "    def add_expenses(self, amount, description):\n",
    "        self.expenses.append({'amount':amount, 'description':description})\n",
    "    \n",
    "    def total_income(self):\n",
    "        return sum(item['amount'] for item in self.incomes)\n",
    "    \n",
    "    def total_expense(self):\n",
    "        return sum(item['amount'] for item in self.expenses)\n",
    "    \n",
    "    def account_balance(self):\n",
    "        return self.total_income() - self.total_expense()\n",
    "    \n",
    "    def account_info(self):\n",
    "        print(f\"Account Information for {self.firstname} {self.lastname}\")\n",
    "        print(f\"Total Income: {self.total_income()}\")\n",
    "        print(f\"Total Expense: {self.total_expense()}\")\n",
    "        print(f\"Account Balance: {self.account_balance()}\")\n",
    "\n",
    "#Example\n",
    "person=PersonAccount('Shamsuddeen','Salihu')\n",
    "person.add_income(2000,'Salary')\n",
    "person.add_income(3000,'side job')\n",
    "person.add_expenses(2000, 'provision')\n",
    "person.add_expenses(1000, 'transport')\n",
    "\n",
    "person.account_info()    "
   ]
  }
 ],
 "metadata": {
  "kernelspec": {
   "display_name": "datascience",
   "language": "python",
   "name": "python3"
  },
  "language_info": {
   "codemirror_mode": {
    "name": "ipython",
    "version": 3
   },
   "file_extension": ".py",
   "mimetype": "text/x-python",
   "name": "python",
   "nbconvert_exporter": "python",
   "pygments_lexer": "ipython3",
   "version": "3.8.18"
  }
 },
 "nbformat": 4,
 "nbformat_minor": 2
}
