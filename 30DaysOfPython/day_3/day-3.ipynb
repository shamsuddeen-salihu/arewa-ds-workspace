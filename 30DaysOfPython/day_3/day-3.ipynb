{
 "cells": [
  {
   "cell_type": "markdown",
   "metadata": {},
   "source": [
    "variable"
   ]
  },
  {
   "cell_type": "code",
   "execution_count": null,
   "metadata": {},
   "outputs": [],
   "source": [
    "age=20\n",
    "heigth=19.5\n",
    "comp=3+2j"
   ]
  },
  {
   "cell_type": "markdown",
   "metadata": {},
   "source": [
    "Triangle"
   ]
  },
  {
   "cell_type": "code",
   "execution_count": null,
   "metadata": {},
   "outputs": [],
   "source": [
    "#area of traingle\n",
    "base=float(input(\"Enter the base:\"))\n",
    "height=float(input(\"Enter the height:\"))\n",
    "area=0.5 * base * height\n",
    "print(\"The area of the triangle is \", area)\n",
    "\n",
    "#perimeter of a traingle\n",
    "side_a=float(input(\"Enter side a:\"))\n",
    "side_b=float(input(\"Enter side b:\"))\n",
    "side_c=float(input(\"Enter side c:\"))\n",
    "perimeter=side_a + side_b + side_c\n",
    "print(\"The perimeter of the triangle is \", perimeter)"
   ]
  },
  {
   "cell_type": "markdown",
   "metadata": {},
   "source": [
    "rectangle"
   ]
  },
  {
   "cell_type": "code",
   "execution_count": null,
   "metadata": {},
   "outputs": [],
   "source": [
    "#area and perimeter of a rectangle\n",
    "length=float(input(\"Enter the length:\"))\n",
    "width=float(input(\"Enter the width:\"))\n",
    "print(\"The area of the rectangle is \", length * width, '\\n',\n",
    "      \"The perimeter of the rectangle is \", 2 * (length + width))"
   ]
  },
  {
   "cell_type": "markdown",
   "metadata": {},
   "source": [
    "circle"
   ]
  },
  {
   "cell_type": "code",
   "execution_count": null,
   "metadata": {},
   "outputs": [],
   "source": [
    "#area and cirumference of circle\n",
    "radius=float(input(\"Enter radius:\")) \n",
    "pi=3.142\n",
    "print(\"The area of the circle is \", pi*radius**2,'\\n',\n",
    "      \"The circumference of the circle is \", 2*pi*radius)"
   ]
  },
  {
   "cell_type": "markdown",
   "metadata": {},
   "source": [
    "Line properties, slopes and Distances"
   ]
  },
  {
   "cell_type": "code",
   "execution_count": null,
   "metadata": {},
   "outputs": [],
   "source": [
    "#slope, intercept amd distance\n",
    "import math\n",
    "\n",
    "#given equation: 2x - 2\n",
    "#the equation is in form of y=mx+b\n",
    "slope_equation =2  \n",
    "y_intercept_equation= -2\n",
    "\n",
    "x_intercept = - y_intercept_equation / slope_equation\n",
    "y_intercept = y_intercept_equation\n",
    "\n",
    "#given point (2, 2) and (6, 10)\n",
    "x1,x2,y1,y2= 2, 2, 6 ,10\n",
    "slope_p =  y2-y1/x2-x1\n",
    "E_distance= math.sqrt((y1 - x1)**2 + (y2 - x2)**2)\n",
    "\n",
    "slopes_compare= \"Equal\" if slope_equation==slope_p else \"not equal\"\n",
    "\n",
    "print(\"slope-equation:\", slope_equation)\n",
    "print(\"x-intercept:\", x_intercept)\n",
    "print(\"y-intercept:\", y_intercept)\n",
    "print(\"slope-points:\", slope_p)\n",
    "print(\"Eucledian Distance:\", E_distance)\n",
    "print(\"slope-equation Vs slope-points:\", slopes_compare)"
   ]
  },
  {
   "cell_type": "markdown",
   "metadata": {},
   "source": [
    "Quadratic"
   ]
  },
  {
   "cell_type": "code",
   "execution_count": 57,
   "metadata": {},
   "outputs": [],
   "source": [
    "x=int(input(\"enter the value of x:\"))\n",
    "y=x**2 + 6*x +9\n",
    "print(\"y=\", y)"
   ]
  },
  {
   "cell_type": "markdown",
   "metadata": {},
   "source": [
    "Comparison"
   ]
  },
  {
   "cell_type": "code",
   "execution_count": 56,
   "metadata": {},
   "outputs": [
    {
     "name": "stdout",
     "output_type": "stream",
     "text": [
      "python: 6\n",
      "dragon: 6\n",
      "False\n"
     ]
    }
   ],
   "source": [
    "print(\"python:\", len(\"python\"))\n",
    "print(\"dragon:\", len(\"dragon\"))\n",
    "print(len(\"python\") > len(\"dragon\"))"
   ]
  },
  {
   "cell_type": "code",
   "execution_count": 55,
   "metadata": {},
   "outputs": [
    {
     "name": "stdout",
     "output_type": "stream",
     "text": [
      " 'on' is in both python and dragon: True\n"
     ]
    }
   ],
   "source": [
    "print(\" 'on' is in both python and dragon:\",'on' in ('python' and 'dragon'))"
   ]
  },
  {
   "cell_type": "code",
   "execution_count": 54,
   "metadata": {},
   "outputs": [
    {
     "name": "stdout",
     "output_type": "stream",
     "text": [
      " 'jargon' is in I hope this course is not full of jargon: True\n"
     ]
    }
   ],
   "source": [
    "print(\" 'jargon' is in I hope this course is not full of jargon:\", 'jargon' in 'I hope this course is not full of jargon')"
   ]
  },
  {
   "cell_type": "code",
   "execution_count": 53,
   "metadata": {},
   "outputs": [
    {
     "name": "stdout",
     "output_type": "stream",
     "text": [
      "there is no 'on' in both python and dragon: False\n"
     ]
    }
   ],
   "source": [
    "print(\"there is no 'on' in both python and dragon:\",'on' not in ('python' and 'dragon'))"
   ]
  },
  {
   "cell_type": "code",
   "execution_count": 52,
   "metadata": {},
   "outputs": [
    {
     "data": {
      "text/plain": [
       "'6'"
      ]
     },
     "execution_count": 52,
     "metadata": {},
     "output_type": "execute_result"
    }
   ],
   "source": [
    "p_length=len(\"python\")\n",
    "float(p_length)\n",
    "str(p_length)"
   ]
  },
  {
   "cell_type": "markdown",
   "metadata": {},
   "source": [
    "Checking"
   ]
  },
  {
   "cell_type": "code",
   "execution_count": 51,
   "metadata": {},
   "outputs": [
    {
     "name": "stdout",
     "output_type": "stream",
     "text": [
      "the number is even\n"
     ]
    }
   ],
   "source": [
    "#even numbers checking\n",
    "numb=int(input(\"enter any number:\"))\n",
    "check=\"the number is even\" if numb%2==0 else \"the number is not even\"\n",
    "print(check)\n"
   ]
  },
  {
   "cell_type": "code",
   "execution_count": 50,
   "metadata": {},
   "outputs": [
    {
     "name": "stdout",
     "output_type": "stream",
     "text": [
      "False\n"
     ]
    }
   ],
   "source": [
    "#floor division of 7 by 4 vs 2.7 to int\n",
    "print(7//4==int(2.7))"
   ]
  },
  {
   "cell_type": "code",
   "execution_count": 49,
   "metadata": {},
   "outputs": [
    {
     "name": "stdout",
     "output_type": "stream",
     "text": [
      "False\n"
     ]
    }
   ],
   "source": [
    "#type '10' vs type 10\n",
    "print(type('10')==type(10))"
   ]
  },
  {
   "cell_type": "code",
   "execution_count": 48,
   "metadata": {},
   "outputs": [
    {
     "name": "stdout",
     "output_type": "stream",
     "text": [
      "False\n"
     ]
    }
   ],
   "source": [
    "#9.8 vs 10\n",
    "print(int(9.8)==10)"
   ]
  },
  {
   "cell_type": "markdown",
   "metadata": {},
   "source": [
    "Pay calculator"
   ]
  },
  {
   "cell_type": "code",
   "execution_count": 47,
   "metadata": {},
   "outputs": [
    {
     "name": "stdout",
     "output_type": "stream",
     "text": [
      "Your weekly earning is  1120\n"
     ]
    }
   ],
   "source": [
    "hours=int(input(\"Enter hours:\"))\n",
    "rate = int(input(\"Enter rate per hour:\"))\n",
    "earning=hours*rate\n",
    "print(\"Your weekly earning is \", earning)"
   ]
  },
  {
   "cell_type": "markdown",
   "metadata": {},
   "source": [
    "Seconds calculator"
   ]
  },
  {
   "cell_type": "code",
   "execution_count": 46,
   "metadata": {},
   "outputs": [
    {
     "name": "stdout",
     "output_type": "stream",
     "text": [
      "You have lived for 3153600000 seconds.\n"
     ]
    }
   ],
   "source": [
    "years = int(input(\"Enter number of years you have lived:\"))\n",
    "seconds=60*60*24*365*years\n",
    "print(\"You have lived for\", seconds, \"seconds.\")"
   ]
  },
  {
   "cell_type": "markdown",
   "metadata": {},
   "source": [
    "Table"
   ]
  },
  {
   "cell_type": "code",
   "execution_count": 41,
   "metadata": {},
   "outputs": [
    {
     "name": "stdout",
     "output_type": "stream",
     "text": [
      "1 1 1 1 1\n",
      "2 1 2 4 8\n",
      "3 1 3 9 27\n",
      "4 1 4 16 64\n",
      "5 1 5 25 125\n"
     ]
    }
   ],
   "source": [
    "print(\"1 1 1 1 1\" '\\n'\n",
    "\"2 1 2 4 8\" '\\n'\n",
    "\"3 1 3 9 27\" '\\n'\n",
    "\"4 1 4 16 64\" '\\n'\n",
    "\"5 1 5 25 125\")"
   ]
  }
 ],
 "metadata": {
  "kernelspec": {
   "display_name": "datascience",
   "language": "python",
   "name": "python3"
  },
  "language_info": {
   "codemirror_mode": {
    "name": "ipython",
    "version": 3
   },
   "file_extension": ".py",
   "mimetype": "text/x-python",
   "name": "python",
   "nbconvert_exporter": "python",
   "pygments_lexer": "ipython3",
   "version": "3.8.18"
  },
  "orig_nbformat": 4
 },
 "nbformat": 4,
 "nbformat_minor": 2
}
