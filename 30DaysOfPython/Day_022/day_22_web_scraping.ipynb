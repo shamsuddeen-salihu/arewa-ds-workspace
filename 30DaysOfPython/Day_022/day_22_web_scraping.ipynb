{
 "cells": [
  {
   "cell_type": "markdown",
   "metadata": {},
   "source": [
    " Exercises: Day 22"
   ]
  },
  {
   "cell_type": "code",
   "execution_count": 19,
   "metadata": {},
   "outputs": [
    {
     "name": "stdout",
     "output_type": "stream",
     "text": [
      "{'Community': {'Student Body': '37,557', 'Living Alumni': '431,000+', 'Total Employees': '10,674', 'Faculty': '4,309', 'Nondegree Students': '1,337', 'Graduate & Professional Students': '18,476', 'Undergraduate Students': '17,744'}, 'Campus': {'Classrooms': '848', 'Buildings': '343', 'Laboratories': '1,481', 'Libraries': '13', 'Campus Area (acres)': '140'}, 'Academics': {'Study Abroad Programs': '80+', 'Average Class Size': '30', 'Faculty': '4,309', 'Student/Faculty Ratio': '11:1', 'Schools and Colleges': '17', 'Programs of Study': '300+'}, 'Grant & Contract Awards': {'Research Expenditures': '$554.0M', 'Sponsored Research Awards': '$645.6M', 'BMC Clinical Research Grants (FY22)': '$82M'}, 'Undergraduate Financial Aid & Scholarships': {'Average Total Need-Based Financial Aid': '$57,237', 'Average Need-Based Grant/Scholarship': '$53,029', 'Grants & Scholarships (need-based)': '$388.4M', 'Grants & Scholarships (non-need-based)': '$26.5M'}, 'Student Life': {'Community Service Hours': '130,000+', 'BU on Social': 'new accounts daily', 'Cultural & Religious Organizations': '80+', 'Community Service & Justice Organizations': '70+', 'Academic & Professional Organizations': '140+', 'Art & Performance Organizations': '60+', 'Student Organizations': '450+', 'First-Year Student Outreach Project Volunteers': '400+'}, 'Research': {'Faculty Publications': '7,000+', 'Student UROP Participants': '475+', 'Centers & Institutes': '130+'}, 'International Community': {'Global Initiatives': '300+', 'Cultural Student Groups': '60+', 'Alumni Countries': '180+', 'International Students': '10,000+'}, 'Athletics': {'Intramural Sports & Tournaments': '12+', 'Club Sports': '36', 'Varsity Sports': '24'}}\n",
      "Bu Json file saved successfully\n"
     ]
    }
   ],
   "source": [
    "#Scrape the following website and store the data as json file(url = 'http://www.bu.edu/president/boston-university-facts-stats/').\n",
    "import requests, json\n",
    "from bs4 import BeautifulSoup\n",
    "url='http://www.bu.edu/president/boston-university-facts-stats/'\n",
    "response=requests.get(url)\n",
    "soup=BeautifulSoup(response.text, 'html.parser')\n",
    "#extract data\n",
    "facts_stats={}\n",
    "sections = soup.find_all('div', class_='facts-wrapper')\n",
    "for section in sections:\n",
    "    heading = section.find('h5').text.strip()\n",
    "    items = {item.find('p').text.strip(): item.find('span').text.strip() for item in section.find_all('li')}\n",
    "    facts_stats[heading] = items\n",
    "#save to json\n",
    "with open('bu_facts_stats.json', 'w', encoding='utf-8') as bu_file:\n",
    "    json.dump(facts_stats, bu_file, ensure_ascii=False, indent=4)\n",
    "print(facts_stats)\n",
    "print('Bu Json file saved successfully')\n"
   ]
  },
  {
   "cell_type": "code",
   "execution_count": 58,
   "metadata": {},
   "outputs": [
    {
     "name": "stdout",
     "output_type": "stream",
     "text": [
      "[<span class=\"truncate\">Classification</span>, <span class=\"truncate\">Tabular</span>, <span class=\"truncate\">150 Instances</span>, <span class=\"truncate\">4 Features</span>]\n"
     ]
    },
    {
     "ename": "IndexError",
     "evalue": "list index out of range",
     "output_type": "error",
     "traceback": [
      "\u001b[1;31m---------------------------------------------------------------------------\u001b[0m",
      "\u001b[1;31mIndexError\u001b[0m                                Traceback (most recent call last)",
      "Cell \u001b[1;32mIn[58], line 25\u001b[0m\n\u001b[0;32m     16\u001b[0m     info_ls\u001b[38;5;241m=\u001b[39m[info\u001b[38;5;241m.\u001b[39mtext \u001b[38;5;28;01mfor\u001b[39;00m info \u001b[38;5;129;01min\u001b[39;00m other_info]\n\u001b[0;32m     17\u001b[0m     \u001b[38;5;66;03m#info_ls2=[info.text for info]\u001b[39;00m\n\u001b[0;32m     18\u001b[0m     row_dict\u001b[38;5;241m=\u001b[39m{\n\u001b[0;32m     19\u001b[0m         \u001b[38;5;124m'\u001b[39m\u001b[38;5;124mDataset name\u001b[39m\u001b[38;5;124m'\u001b[39m: name,\n\u001b[0;32m     20\u001b[0m         \u001b[38;5;124m'\u001b[39m\u001b[38;5;124mDataset Description\u001b[39m\u001b[38;5;124m'\u001b[39m : des,\n\u001b[0;32m     21\u001b[0m         \u001b[38;5;124m'\u001b[39m\u001b[38;5;124mTask\u001b[39m\u001b[38;5;124m'\u001b[39m: info_ls[\u001b[38;5;241m0\u001b[39m],\n\u001b[0;32m     22\u001b[0m         \u001b[38;5;124m'\u001b[39m\u001b[38;5;124mData Type\u001b[39m\u001b[38;5;124m'\u001b[39m: info_ls[\u001b[38;5;241m1\u001b[39m],\n\u001b[0;32m     23\u001b[0m         \u001b[38;5;124m'\u001b[39m\u001b[38;5;124mInstances\u001b[39m\u001b[38;5;124m'\u001b[39m: info_ls[\u001b[38;5;241m2\u001b[39m],\n\u001b[0;32m     24\u001b[0m         \u001b[38;5;124m'\u001b[39m\u001b[38;5;124mFeatures\u001b[39m\u001b[38;5;124m'\u001b[39m: info_ls[\u001b[38;5;241m3\u001b[39m],\n\u001b[1;32m---> 25\u001b[0m         \u001b[38;5;124m'\u001b[39m\u001b[38;5;124mSubject Area\u001b[39m\u001b[38;5;124m'\u001b[39m:\u001b[43minfo_ls\u001b[49m\u001b[43m[\u001b[49m\u001b[38;5;241;43m4\u001b[39;49m\u001b[43m]\u001b[49m    \n\u001b[0;32m     26\u001b[0m     }\n\u001b[0;32m     27\u001b[0m     rows\u001b[38;5;241m.\u001b[39mappend(row_dict)\n\u001b[0;32m     29\u001b[0m \u001b[38;5;66;03m# Save the data to a JSON file\u001b[39;00m\n",
      "\u001b[1;31mIndexError\u001b[0m: list index out of range"
     ]
    }
   ],
   "source": [
    "#Extract the table in this url (https://archive.ics.uci.edu/ml/datasets.php) and change it to a json file\n",
    "#url='https://archive.ics.uci.edu/ml/datasets.php'\n",
    "url='https://archive.ics.uci.edu/datasets'\n",
    "response=requests.get(url)\n",
    "soup=BeautifulSoup(response.text, 'html.parser')\n",
    "# Find the table on the webpage\n",
    "tables = soup.find_all('div', class_= 'rounded-box bg-base-100')\n",
    "\n",
    "# Extract table rows\n",
    "rows = []\n",
    "for table in tables:\n",
    "    name = table.find('a', class_='link-hover link text-xl font-semibold').text\n",
    "    des=table.find('p', class_='truncate').text.replace('\\n', '')\n",
    "    other_info=table.find_all('span', class_='truncate')\n",
    "    info_ls=[info.text for info in other_info]\n",
    "\n",
    "    row_dict={\n",
    "        'Dataset name': name,\n",
    "        'Dataset Description' : des,\n",
    "        'Task': info_ls[0],\n",
    "        'Data Type': info_ls[1],\n",
    "        'Instances': info_ls[2],\n",
    "        'Features': info_ls[3],\n",
    "        'Subject Area':info_ls[4]    \n",
    "    }\n",
    "    rows.append(row_dict)\n",
    "\n",
    "# Save the data to a JSON file\n",
    "\n",
    "with open('uci_datasets.json', 'w', encoding='utf-8') as uci_file:\n",
    "    json.dump(rows, uci_file, ensure_ascii=False, indent=4)\n",
    "    #json_file.write(json_data)\n",
    "\n",
    "print('Dataset has been extracted and saved to uci_datasets.json')"
   ]
  }
 ],
 "metadata": {
  "kernelspec": {
   "display_name": "datascience",
   "language": "python",
   "name": "python3"
  },
  "language_info": {
   "codemirror_mode": {
    "name": "ipython",
    "version": 3
   },
   "file_extension": ".py",
   "mimetype": "text/x-python",
   "name": "python",
   "nbconvert_exporter": "python",
   "pygments_lexer": "ipython3",
   "version": "3.8.18"
  }
 },
 "nbformat": 4,
 "nbformat_minor": 2
}
