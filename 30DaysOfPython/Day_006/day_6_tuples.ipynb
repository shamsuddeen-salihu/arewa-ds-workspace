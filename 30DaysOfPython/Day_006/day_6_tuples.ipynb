{
 "cells": [
  {
   "cell_type": "markdown",
   "metadata": {},
   "source": [
    "Level 1"
   ]
  },
  {
   "cell_type": "code",
   "execution_count": 9,
   "metadata": {},
   "outputs": [
    {
     "name": "stdout",
     "output_type": "stream",
     "text": [
      "('Aisha', 'Maryam', 'Hajara') \n",
      " ('Haruna', 'Amir', 'Abba') \n",
      " ('Aisha', 'Maryam', 'Hajara', 'Haruna', 'Amir', 'Abba')\n",
      "6\n",
      "('Aisha', 'Maryam', 'Hajara', 'Haruna', 'Amir', 'Abba', 'Salihu', 'Fatima')\n",
      "('apple', 'mango', 'orange', 'cucumber', 'lettuce', 'cabbage', 'egg', 'milk', 'meat')\n",
      "lettuce\n",
      "['apple', 'mango', 'orange']\n",
      "['egg', 'milk', 'meat']\n",
      "False\n",
      "True\n"
     ]
    }
   ],
   "source": [
    "e_tuple= tuple()\n",
    "sisters=('Aisha','Maryam','Hajara')\n",
    "brothers=('Haruna','Amir','Abba')\n",
    "siblings= sisters + brothers\n",
    "print(sisters,'\\n',brothers,'\\n',siblings)\n",
    "print(len(siblings))\n",
    "family_members=list(siblings)\n",
    "family_members.append('Salihu')\n",
    "family_members.append('Fatima')\n",
    "family_members=tuple(family_members)\n",
    "print(family_members)\n",
    "#level 2\n",
    "fruit=('apple','mango','orange')\n",
    "vegetable=('cucumber','lettuce','cabbage')\n",
    "animal_product=('egg','milk','meat')\n",
    "food_stuff_tp=fruit + vegetable + animal_product\n",
    "print(food_stuff_tp)\n",
    "food_stuff_lt=list(food_stuff_tp)\n",
    "middle_item=len(food_stuff_lt)//2\n",
    "print(food_stuff_lt[middle_item])\n",
    "print(food_stuff_lt[:3])\n",
    "print(food_stuff_lt[-3:])\n",
    "del food_stuff_tp\n",
    "nordic_countries = ('Denmark', 'Finland','Iceland', 'Norway', 'Sweden')\n",
    "print('Estonia' in nordic_countries)\n",
    "print('Iceland' in nordic_countries)"
   ]
  }
 ],
 "metadata": {
  "kernelspec": {
   "display_name": "datascience",
   "language": "python",
   "name": "python3"
  },
  "language_info": {
   "codemirror_mode": {
    "name": "ipython",
    "version": 3
   },
   "file_extension": ".py",
   "mimetype": "text/x-python",
   "name": "python",
   "nbconvert_exporter": "python",
   "pygments_lexer": "ipython3",
   "version": "3.8.18"
  }
 },
 "nbformat": 4,
 "nbformat_minor": 2
}
