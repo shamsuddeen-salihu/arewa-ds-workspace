{
 "cells": [
  {
   "cell_type": "markdown",
   "metadata": {},
   "source": [
    "Day 18 Exercises \n",
    "Level 1"
   ]
  },
  {
   "cell_type": "code",
   "execution_count": 42,
   "metadata": {},
   "outputs": [
    {
     "name": "stdout",
     "output_type": "stream",
     "text": [
      "[(6, 'love'), (5, 'you'), (3, 'can'), (2, 'I'), (2, 'teaching'), (2, 'do'), (2, 'not'), (2, 'what'), (2, 'else'), (1, 'If'), (1, 'Python'), (1, 'if'), (1, 'something'), (1, 'which'), (1, 'give'), (1, 'all'), (1, 'the'), (1, 'capabilities'), (1, 'to'), (1, 'develop'), (1, 'an'), (1, 'application')]\n",
      "the most frequent word is:(6, 'love')\n"
     ]
    }
   ],
   "source": [
    "#What is the most frequent word in the following paragraph?\n",
    "from collections import Counter\n",
    "import re\n",
    "paragraph = '''I love teaching. If you do not love teaching what else can you love. I love Python if you do not love something which can give you all the capabilities to develop an application what else can you love.'''\n",
    "pattern=r'[\\w]+'\n",
    "match=re.findall(pattern,paragraph)\n",
    "counter=Counter(match)\n",
    "common_words=counter.most_common()\n",
    "word_frequency_list=[(word,frequency) for  frequency,word in common_words]\n",
    "print(word_frequency_list)\n",
    "print(f'the most frequent word is:{word_frequency_list[0]}')"
   ]
  },
  {
   "cell_type": "code",
   "execution_count": 75,
   "metadata": {},
   "outputs": [
    {
     "name": "stdout",
     "output_type": "stream",
     "text": [
      "points= ['-12', '-4', '-3', '-1', '0', '4', '8']\n",
      "sorted points= [-12, -4, -3, -1, 0, 4, 8]\n",
      "Distance= 8 - (-12) = 20\n"
     ]
    }
   ],
   "source": [
    "#The position of some particles on the horizontal x-axis are -12, -4, -3 and -1 in the negative direction, 0 at origin, 4 and 8 in the positive direction. Extract these numbers from this whole text and find the distance between the two furthest particles.\n",
    "text =\"The position of some particles on the horizontal x-axis are -12, -4, -3 and -1 in the negative direction, 0 at origin, 4 and 8 in the positive direction\"\n",
    "pattern=r'-?\\d+'\n",
    "points=re.findall(pattern,text)\n",
    "print('points=',points)\n",
    "sorted_points=[int(point) for point in points]\n",
    "print('sorted points=',sorted_points)\n",
    "distance=sorted_points[len(sorted_points)-1]-sorted_points[0]\n",
    "print(f'Distance= {sorted_points[len(sorted_points)-1]} - ({sorted_points[0]}) = {distance}')\n"
   ]
  },
  {
   "cell_type": "code",
   "execution_count": 90,
   "metadata": {},
   "outputs": [
    {
     "name": "stdout",
     "output_type": "stream",
     "text": [
      "True\n",
      "False\n",
      "False\n",
      "True\n"
     ]
    }
   ],
   "source": [
    "#Write a pattern which identifies if a string is a valid python variable\n",
    "def is_valid_variable(variable):    \n",
    "    pattern=r'^[a-zA-Z_][a-zA-Z0-9_]*$'\n",
    "    return bool(re.match(pattern,variable))\n",
    "print(is_valid_variable('first9_name'))\n",
    "print(is_valid_variable('first-name')) \n",
    "print(is_valid_variable('1first_name')) \n",
    "print(is_valid_variable('firstname'))\n"
   ]
  },
  {
   "cell_type": "code",
   "execution_count": 98,
   "metadata": {},
   "outputs": [
    {
     "name": "stdout",
     "output_type": "stream",
     "text": [
      "I am a teacher and I love teaching There is nothing as more rewarding as educating and empowering people I found teaching more interesting than any other jobs Does this motivate you to be a teacher\n",
      "['I', 'am', 'a', 'teacher', 'and', 'I', 'love', 'teaching', 'There', 'is', 'nothing', 'as', 'more', 'rewarding', 'as', 'educating', 'and', 'empowering', 'people', 'I', 'found', 'teaching', 'more', 'interesting', 'than', 'any', 'other', 'jobs', 'Does', 'this', 'motivate', 'you', 'to', 'be', 'a', 'teacher']\n",
      "[('I', 3), ('a', 2), ('teacher', 2)]\n"
     ]
    }
   ],
   "source": [
    "#Clean the following text. After cleaning, count three most frequent words in the string.\n",
    "sentence = '''%I $am@% a %tea@cher%, &and& I lo%#ve %tea@ching%;. There $is nothing; &as& mo@re rewarding as educa@ting &and& @emp%o@wering peo@ple. ;I found tea@ching m%o@re interesting tha@n any other %jo@bs. %Do@es thi%s mo@tivate yo@u to be a tea@cher!?'''\n",
    "pattern=r'[^\\w\\s]'\n",
    "cleaned_sentence=re.sub(pattern,'',sentence)\n",
    "print(cleaned_sentence)\n",
    "words=cleaned_sentence.split()\n",
    "print(words)\n",
    "counter=Counter(words)\n",
    "common_words=counter.most_common()\n",
    "Top_three_most_frequent_word=[(frequency,word) for frequency,word in common_words]\n",
    "print(Top_three_most_frequent_word[:3])"
   ]
  }
 ],
 "metadata": {
  "kernelspec": {
   "display_name": "datascience",
   "language": "python",
   "name": "python3"
  },
  "language_info": {
   "codemirror_mode": {
    "name": "ipython",
    "version": 3
   },
   "file_extension": ".py",
   "mimetype": "text/x-python",
   "name": "python",
   "nbconvert_exporter": "python",
   "pygments_lexer": "ipython3",
   "version": "3.8.18"
  }
 },
 "nbformat": 4,
 "nbformat_minor": 2
}
