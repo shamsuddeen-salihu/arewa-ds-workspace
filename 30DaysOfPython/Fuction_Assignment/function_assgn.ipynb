{
 "cells": [
  {
   "cell_type": "markdown",
   "metadata": {},
   "source": [
    "8-1. Message:Write a function called display_message() that prints one sentence\n",
    "telling everyone what you are learning about in this chapter. Call the\n",
    "function, and make sure the message displays correctly."
   ]
  },
  {
   "cell_type": "code",
   "execution_count": 2,
   "metadata": {},
   "outputs": [
    {
     "name": "stdout",
     "output_type": "stream",
     "text": [
      "I am learning about function in python programming\n"
     ]
    }
   ],
   "source": [
    "def display_message():\n",
    "    print('I am learning about function in python programming')\n",
    "display_message()"
   ]
  },
  {
   "cell_type": "markdown",
   "metadata": {},
   "source": [
    "8-2. Favorite Book:Write a function called favorite_book() that accepts one\n",
    "parameter, title. The function should print a message, such as One of my\n",
    "favorite books is Alice in Wonderland. Call the function, making sure to\n",
    "include a book title as an argument in the function call."
   ]
  },
  {
   "cell_type": "code",
   "execution_count": 4,
   "metadata": {},
   "outputs": [
    {
     "name": "stdout",
     "output_type": "stream",
     "text": [
      "One of my favourite book is ALice in Wonderland\n"
     ]
    }
   ],
   "source": [
    "def favorite_book(title):\n",
    "    print(f'One of my favourite book is {title}')\n",
    "favorite_book('ALice in Wonderland')"
   ]
  },
  {
   "cell_type": "markdown",
   "metadata": {},
   "source": [
    "8-3. T-Shirt: Write a function called make_shirt() that accepts a size and the text of a message that should be printed on the shirt. The function should print a sentence summarizing the size of the shirt and the message printed on it.\n",
    "Call the function once using positional arguments to make a shirt. Call the function a second time using keyword arguments."
   ]
  },
  {
   "cell_type": "code",
   "execution_count": 8,
   "metadata": {},
   "outputs": [
    {
     "name": "stdout",
     "output_type": "stream",
     "text": [
      "The size of the shirt is medium and the message to be printed is \"I love coding\"\n",
      "The size of the shirt is large and the message to be printed is \"I love Python\"\n"
     ]
    }
   ],
   "source": [
    "def make_shirt(size,text):\n",
    "    print(f'The size of the shirt is {size} and the message to be printed is \"{text}\"')\n",
    "make_shirt('medium','I love coding')\n",
    "make_shirt(size='large',text='I love Python')"
   ]
  },
  {
   "cell_type": "markdown",
   "metadata": {},
   "source": [
    "8-4. Large Shirts: Modify the make_shirt() function so that shirts are large\n",
    "by default with a message that reads I love Python. Make a large shirt and a\n",
    "medium shirt with the default message, and a shirt of any size with a different\n",
    "message."
   ]
  },
  {
   "cell_type": "code",
   "execution_count": 11,
   "metadata": {},
   "outputs": [
    {
     "name": "stdout",
     "output_type": "stream",
     "text": [
      "The size of the shirt is large and the message to be printed is \"I love Python\"\n",
      "The size of the shirt is medium and the message to be printed is \"I love coding\"\n"
     ]
    }
   ],
   "source": [
    "def make_shirt(size='large',text='I love Python'):\n",
    "        print(f'The size of the shirt is {size} and the message to be printed is \"{text}\"')\n",
    "make_shirt()\n",
    "make_shirt('medium','I love coding')"
   ]
  },
  {
   "cell_type": "markdown",
   "metadata": {},
   "source": [
    "8-5. Cities: Write a function called describe_city() that accepts the name of\n",
    "a city and its country. The function should print a simple sentence, such as\n",
    "Reykjavik is in Iceland. Give the parameter for the country a default value.\n",
    "Call your function for three different cities, at least one of which is not in the\n",
    "default country."
   ]
  },
  {
   "cell_type": "code",
   "execution_count": 12,
   "metadata": {},
   "outputs": [
    {
     "name": "stdout",
     "output_type": "stream",
     "text": [
      "Abuja is in Nigeria\n",
      "Kano is in Nigeria\n",
      "paris is in France\n"
     ]
    }
   ],
   "source": [
    "def describe_city(city,country='Nigeria'):\n",
    "    print(f'{city} is in {country}')\n",
    "describe_city(city='Abuja')\n",
    "describe_city(city='Kano')\n",
    "describe_city(city='paris',country='France')"
   ]
  },
  {
   "cell_type": "markdown",
   "metadata": {},
   "source": [
    "8-6. City Names: Write a function called city_country() that takes in the name\n",
    "of a city and its country. The function should return a string formatted like this:\n",
    "\"Santiago, Chile\"\n",
    "Call your function with at least three city-country pairs, and print the values\n",
    "that are returned."
   ]
  },
  {
   "cell_type": "code",
   "execution_count": 24,
   "metadata": {},
   "outputs": [
    {
     "name": "stdout",
     "output_type": "stream",
     "text": [
      "\"Abuja, Nigeria\"\n",
      "\"London, England\"\n",
      "\"Moscow, Russia\"\n"
     ]
    }
   ],
   "source": [
    "def city_country(city,country):\n",
    "    formatted_string=f'\"{city}, {country}\"'\n",
    "    return formatted_string\n",
    "print(city_country('Abuja','Nigeria'))\n",
    "print(city_country('London','England'))\n",
    "print(city_country('Moscow','Russia'))"
   ]
  },
  {
   "cell_type": "markdown",
   "metadata": {},
   "source": [
    "8-7. Album: Write a function called make_album() that builds a dictionary describing a music album. The function should take in an artist name and an album title, and it should return a dictionary containing these two pieces of information. Use the function to make three dictionaries representing different albums. Print each return value to show that the dictionaries are storing the album information correctly.\n",
    "Use None to add an optional parameter to make_album() that allows you to store the number of songs on an album. If the calling line includes a value for the number of songs, add that value to the album’s dictionary. Make at least one new function call that includes the number of songs on an album."
   ]
  },
  {
   "cell_type": "code",
   "execution_count": 29,
   "metadata": {},
   "outputs": [
    {
     "name": "stdout",
     "output_type": "stream",
     "text": [
      "{'Artist name': 'xxxx', 'Album title': 'yyyy'}\n",
      "{'Artist name': 'aaaa', 'Album title': 'bbbb'}\n",
      "{'Artist name': 'xyxyx', 'Album title': 'ababab', 'Number of songs': 4}\n"
     ]
    }
   ],
   "source": [
    "def make_album(artist_name,album_title,n_songs=None):\n",
    "    album={'Artist name':artist_name,'Album title':album_title}\n",
    "    if n_songs:\n",
    "        album['Number of songs']=n_songs\n",
    "    return album\n",
    "album1=make_album('xxxx','yyyy')\n",
    "print(album1)\n",
    "album2=make_album('aaaa','bbbb')\n",
    "print(album2)\n",
    "album3=make_album('xyxyx','ababab',4)\n",
    "print(album3)"
   ]
  },
  {
   "cell_type": "markdown",
   "metadata": {},
   "source": [
    "8-8. User Albums: Start with your program from Exercise 8-7. Write a while loop that allows users to enter an album’s artist and title. Once you have that information, call make_album() with the user’s input and print the dictionary that’s created. Be sure to include a quit value in the while loop."
   ]
  },
  {
   "cell_type": "code",
   "execution_count": 37,
   "metadata": {},
   "outputs": [
    {
     "name": "stdout",
     "output_type": "stream",
     "text": [
      "Enter Album details\n",
      "enter 'q' at any time to quit\n"
     ]
    },
    {
     "name": "stdout",
     "output_type": "stream",
     "text": [
      "{'Artist name': 'Alan Walker', 'Album title': 'Darkworld'}\n"
     ]
    }
   ],
   "source": [
    "def make_album(artist_name,album_title,n_songs=None):\n",
    "    album={'Artist name':artist_name,'Album title':album_title}\n",
    "    return album\n",
    "print('Enter Album details')\n",
    "print(\"enter 'q' at any time to quit\")\n",
    "while True:\n",
    "    a_name=input('Artist Name:')\n",
    "    if a_name=='q':\n",
    "        break\n",
    "    a_title=input('Album title:')\n",
    "    if a_title=='q':\n",
    "        break\n",
    "    album1=make_album(a_name,a_title)\n",
    "print(album1)\n",
    "    \n"
   ]
  },
  {
   "cell_type": "markdown",
   "metadata": {},
   "source": [
    "8-9. Messages: Make a list containing a series of short text messages. Pass the list to a function called show_messages(), which prints each text message."
   ]
  },
  {
   "cell_type": "code",
   "execution_count": 38,
   "metadata": {},
   "outputs": [
    {
     "name": "stdout",
     "output_type": "stream",
     "text": [
      "come\n",
      "see\n",
      "try\n"
     ]
    }
   ],
   "source": [
    "def show_messages(m_list):\n",
    "    for m in m_list:\n",
    "        print(m)\n",
    "m_list=['come','see','try']\n",
    "show_messages(m_list)"
   ]
  },
  {
   "cell_type": "markdown",
   "metadata": {},
   "source": [
    "8-10. Sending Messages: Start with a copy of your program from Exercise 8-9. Write a function called send_messages() that prints each text message and moves each message to a new list called sent_messages as it’s printed. After calling the function, print both of your lists to make sure the messages were moved correctly."
   ]
  },
  {
   "cell_type": "code",
   "execution_count": 42,
   "metadata": {},
   "outputs": [
    {
     "name": "stdout",
     "output_type": "stream",
     "text": [
      "how are you\n",
      "are you ok\n",
      "whats up\n",
      "['how are you', 'are you ok', 'whats up'] \n",
      " ['how are you', 'are you ok', 'whats up']\n"
     ]
    }
   ],
   "source": [
    "def send_messages(message_list):\n",
    "    sent_messages=[]\n",
    "    for msg in message_list:\n",
    "        print(msg)\n",
    "        sent_messages.append(msg)\n",
    "    print(message_list,'\\n',sent_messages)\n",
    "m_list=['how are you','are you ok','whats up']\n",
    "send_messages(m_list)\n"
   ]
  },
  {
   "cell_type": "markdown",
   "metadata": {},
   "source": [
    "8-11. Archived Messages: Start with your work from Exercise 8-10. Call the function send_messages() with a copy of the list of messages. After calling the function, print both of your lists to show that the original list has retained its messages."
   ]
  },
  {
   "cell_type": "code",
   "execution_count": 47,
   "metadata": {},
   "outputs": [
    {
     "name": "stdout",
     "output_type": "stream",
     "text": [
      "how are you\n",
      "are you ok\n",
      "whats up\n",
      "['how are you', 'are you ok', 'whats up'] \n",
      " ['how are you', 'are you ok', 'whats up']\n"
     ]
    }
   ],
   "source": [
    "send_messages(m_list)\n"
   ]
  },
  {
   "cell_type": "markdown",
   "metadata": {},
   "source": [
    "8-12. Sandwiches: Write a function that accepts a list of items a person wants\n",
    "on a sandwich. The function should have one parameter that collects as many\n",
    "items as the function call provides, and it should print a summary of the sandwich\n",
    "that’s being ordered. Call the function three times, using a different number\n",
    "of arguments each time."
   ]
  },
  {
   "cell_type": "code",
   "execution_count": 51,
   "metadata": {},
   "outputs": [
    {
     "name": "stdout",
     "output_type": "stream",
     "text": [
      "making a sandwitch with the following items:\n",
      "-nn\n",
      "-mm\n",
      "making a sandwitch with the following items:\n",
      "-pp\n",
      "-cc\n",
      "-dd\n",
      "-zz\n",
      "making a sandwitch with the following items:\n",
      "-aa\n"
     ]
    }
   ],
   "source": [
    "def make_sandwitch(*items):\n",
    "    print('making a sandwitch with the following items:')\n",
    "    for item in items:\n",
    "        print(f'-{item}')\n",
    "make_sandwitch('nn','mm')\n",
    "make_sandwitch('pp','cc','dd','zz')\n",
    "make_sandwitch('aa')"
   ]
  },
  {
   "cell_type": "markdown",
   "metadata": {},
   "source": [
    "8-13. User Profile: Start with a copy of user_profile.py from page 148. Build a\n",
    "profile of yourself by calling build_profile(), using your first and last names\n",
    "and three other key-value pairs that describe you."
   ]
  },
  {
   "cell_type": "code",
   "execution_count": 52,
   "metadata": {},
   "outputs": [
    {
     "name": "stdout",
     "output_type": "stream",
     "text": [
      "{'location': 'Nigeria', 'field': 'Computer', 'age': 22, 'Gender': 'Male', 'first_name': 'Shamsuddeen', 'last_name': 'Salihu'}\n"
     ]
    }
   ],
   "source": [
    "def build_profile(first, last, **user_info):\n",
    "    user_info['first_name'] = first\n",
    "    user_info['last_name'] = last\n",
    "    return user_info\n",
    "user_profile=build_profile('Shamsuddeen','Salihu',location='Nigeria',field='Computer',age=22,Gender='Male')\n",
    "print(user_profile)"
   ]
  },
  {
   "cell_type": "markdown",
   "metadata": {},
   "source": [
    "8-14. Cars: Write a function that stores information about a car in a dictionary.\n",
    "The function should always receive a manufacturer and a model name. It\n",
    "should then accept an arbitrary number of keyword arguments. Call the function\n",
    "with the required information and two other name-value pairs, such as a\n",
    "color or an optional feature. Your function should work for a call like this one:\n",
    "car = make_car('subaru', 'outback', color='blue', tow_package=True)\n",
    "Print the dictionary that’s returned to make sure all the information was\n",
    "stored correctly."
   ]
  },
  {
   "cell_type": "code",
   "execution_count": 55,
   "metadata": {},
   "outputs": [
    {
     "name": "stdout",
     "output_type": "stream",
     "text": [
      "{'color': 'blue', 'tow_package': True, 'Manufacturer': 'subaru', 'Model name': 'outback'}\n"
     ]
    }
   ],
   "source": [
    "def make_car(manufacturer,m_name,**car_info):\n",
    "    car_info['Manufacturer']=manufacturer\n",
    "    car_info['Model name']=m_name\n",
    "    return car_info\n",
    "car = make_car('subaru', 'outback', color='blue', tow_package=True)\n",
    "print(car)"
   ]
  },
  {
   "cell_type": "markdown",
   "metadata": {},
   "source": [
    "8-15. Printing Models: Put the functions for the example printing_models.py in a separate file called printing_functions.py. Write an import statement at the top of printing_models.py, and modify the file to use the imported functions."
   ]
  },
  {
   "cell_type": "code",
   "execution_count": 1,
   "metadata": {},
   "outputs": [
    {
     "name": "stdout",
     "output_type": "stream",
     "text": [
      "Printing model: dodecahedron\n",
      "Printing model: robot pendant\n",
      "Printing model: phone case\n",
      "\n",
      "The following models have been printed:\n",
      "dodecahedron\n",
      "robot pendant\n",
      "phone case\n"
     ]
    }
   ],
   "source": [
    "from printing_functions import*\n",
    "unprinted_designs = ['phone case', 'robot pendant', 'dodecahedron']\n",
    "completed_models = []\n",
    "print_models(unprinted_designs, completed_models)\n",
    "show_completed_models(completed_models)"
   ]
  },
  {
   "cell_type": "markdown",
   "metadata": {},
   "source": [
    "8-16. Imports: Using a program you wrote that has one function in it, store that function in a separate file. Import the function into your main program file, and call the function using each of these approaches:\n",
    "import module_name\n",
    "from module_name import function_name\n",
    "from module_name import function_name as fn\n",
    "import module_name as mn\n",
    "from module_name import *"
   ]
  },
  {
   "cell_type": "code",
   "execution_count": 20,
   "metadata": {},
   "outputs": [
    {
     "name": "stdout",
     "output_type": "stream",
     "text": [
      "The size of the shirt is medium and the message to be printed is \"bug free\"\n",
      "Kano is in Nigeria\n",
      "i\n",
      "am\n",
      "a\n",
      "coder\n"
     ]
    }
   ],
   "source": [
    "import functions\n",
    "functions.make_shirt('medium','bug free')\n",
    "\n",
    "from functions import describe_city\n",
    "describe_city('Kano','Nigeria')\n",
    "\n",
    "from functions import*\n",
    "list=['i','am','a','coder']\n",
    "show_messages(list)"
   ]
  },
  {
   "cell_type": "code",
   "execution_count": 21,
   "metadata": {},
   "outputs": [
    {
     "data": {
      "text/plain": [
       "{'Artist name': 'Wizkid', 'Album title': 'Made in lagos'}"
      ]
     },
     "execution_count": 21,
     "metadata": {},
     "output_type": "execute_result"
    }
   ],
   "source": [
    "import functions as fn\n",
    "fn.make_album('Wizkid','Made in lagos')"
   ]
  },
  {
   "cell_type": "code",
   "execution_count": 22,
   "metadata": {},
   "outputs": [
    {
     "data": {
      "text/plain": [
       "'\"Sokoto, Nigeria\"'"
      ]
     },
     "execution_count": 22,
     "metadata": {},
     "output_type": "execute_result"
    }
   ],
   "source": [
    "from functions import city_country as cc \n",
    "cc('Sokoto','Nigeria')"
   ]
  },
  {
   "cell_type": "markdown",
   "metadata": {},
   "source": [
    "8-17. Styling Functions: Choose any three programs you wrote for this chapter, and make sure they follow the styling guidelines described in this section."
   ]
  },
  {
   "cell_type": "code",
   "execution_count": null,
   "metadata": {},
   "outputs": [],
   "source": [
    "#Done"
   ]
  }
 ],
 "metadata": {
  "kernelspec": {
   "display_name": "datascience",
   "language": "python",
   "name": "python3"
  },
  "language_info": {
   "codemirror_mode": {
    "name": "ipython",
    "version": 3
   },
   "file_extension": ".py",
   "mimetype": "text/x-python",
   "name": "python",
   "nbconvert_exporter": "python",
   "pygments_lexer": "ipython3",
   "version": "3.8.18"
  }
 },
 "nbformat": 4,
 "nbformat_minor": 2
}
