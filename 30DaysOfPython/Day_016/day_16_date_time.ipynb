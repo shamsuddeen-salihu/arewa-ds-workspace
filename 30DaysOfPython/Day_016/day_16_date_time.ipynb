{
 "cells": [
  {
   "cell_type": "markdown",
   "metadata": {},
   "source": [
    "Exercises Day 16"
   ]
  },
  {
   "cell_type": "code",
   "execution_count": 26,
   "metadata": {},
   "outputs": [
    {
     "name": "stdout",
     "output_type": "stream",
     "text": [
      "16/12/2023, 11:32\n",
      "timestamp: 1702722754.866061\n",
      "current date and time: 16/12/23, 11:32:34\n",
      "date_object = 2019-12-05 00:00:00\n",
      "Time left for new year: 15 days, 12:27:25.133939\n",
      "difference btwn now & Jan 1970: 19707 days, 11:32:34.866061\n"
     ]
    }
   ],
   "source": [
    "# current day, month, year, hour, minute and timestamp\n",
    "from datetime import date, datetime\n",
    "now=datetime.now()\n",
    "print(f'{now.day}/{now.month}/{now.year}, {now.hour}:{now.minute}')\n",
    "print('timestamp:',now.timestamp())\n",
    "\n",
    "#format the current date and time\n",
    "current_date_nd_time=now.strftime(\"%d/%m/%y, %H:%M:%S\")\n",
    "print('current date and time:',current_date_nd_time)\n",
    "\n",
    "#change time string to object\n",
    "date_string=\"5 December, 2019\"\n",
    "converted_time=datetime.strptime(date_string, \"%d %B, %Y\")\n",
    "print(\"date_object =\", converted_time)\n",
    "\n",
    "#time difference\n",
    "New_year=datetime(year = 2024, month = 1, day = 1, hour = 0, minute = 0, second = 0)\n",
    "difference=New_year-now\n",
    "print('Time left for new year:', difference)\n",
    "jan_1970=datetime(year = 1970, month = 1, day = 1, hour = 0, minute = 0, second = 0)\n",
    "diff=now-jan_1970\n",
    "print(\"difference btwn now & Jan 1970:\",diff)\n"
   ]
  }
 ],
 "metadata": {
  "kernelspec": {
   "display_name": "datascience",
   "language": "python",
   "name": "python3"
  },
  "language_info": {
   "codemirror_mode": {
    "name": "ipython",
    "version": 3
   },
   "file_extension": ".py",
   "mimetype": "text/x-python",
   "name": "python",
   "nbconvert_exporter": "python",
   "pygments_lexer": "ipython3",
   "version": "3.8.18"
  }
 },
 "nbformat": 4,
 "nbformat_minor": 2
}
