{
 "cells": [
  {
   "cell_type": "code",
   "execution_count": 32,
   "metadata": {},
   "outputs": [
    {
     "name": "stdout",
     "output_type": "stream",
     "text": [
      "Random id: nB1U4i\n"
     ]
    }
   ],
   "source": [
    "#random user id\n",
    "import string\n",
    "import random\n",
    "def generate_random_user_id():\n",
    "    characters=string.ascii_letters + string.digits\n",
    "    random_user_id=''\n",
    "    for i in range(6):\n",
    "        random_user_id=random_user_id + random.choice(characters)\n",
    "    return random_user_id\n",
    "print(\"Random id:\",generate_random_user_id())\n"
   ]
  },
  {
   "cell_type": "code",
   "execution_count": 62,
   "metadata": {},
   "outputs": [
    {
     "name": "stdout",
     "output_type": "stream",
     "text": [
      "2OL6N\n",
      "cymuX\n",
      "LVrbK\n",
      "8qt8e\n",
      "zgoC9\n"
     ]
    }
   ],
   "source": [
    "#Generate user id by user\n",
    "def user_id_gen_by_user():\n",
    "    num_char=int(input(\"Enter your desired characters:\"))\n",
    "    num_ids=int(input(\"Enter your desired number of ids:\"))\n",
    "    characters=string.ascii_letters + string.digits\n",
    "    ids=[]\n",
    "    for i in range(num_ids):\n",
    "        user_id=''\n",
    "        for j in range(num_char):\n",
    "            user_id=user_id + random.choice(characters)\n",
    "        ids.append(user_id)\n",
    "    return ids\n",
    "user_ids=user_id_gen_by_user()\n",
    "for user_id in user_ids:\n",
    "    print(user_id)\n"
   ]
  },
  {
   "cell_type": "code",
   "execution_count": 121,
   "metadata": {},
   "outputs": [
    {
     "name": "stdout",
     "output_type": "stream",
     "text": [
      "rgb (155, 155, 252)\n"
     ]
    }
   ],
   "source": [
    "#Generate RGB colors\n",
    "from  random import randint\n",
    "def rgb_color_gen():\n",
    "    r = random.randint(0, 255)\n",
    "    g = random.randint(0, 255)\n",
    "    b = random.randint(0, 255)\n",
    "    return r, g, b\n",
    "print(\"rgb\",rgb_color_gen())\n",
    "    "
   ]
  },
  {
   "cell_type": "markdown",
   "metadata": {},
   "source": [
    "Level 2"
   ]
  },
  {
   "cell_type": "code",
   "execution_count": 141,
   "metadata": {},
   "outputs": [
    {
     "name": "stdout",
     "output_type": "stream",
     "text": [
      "['#d1821f', '#d20cfc', '#e350d4']\n"
     ]
    }
   ],
   "source": [
    "#Hexa colours\n",
    "def list_of_hexa_colors(num_colors):\n",
    "    hex_colours=[]\n",
    "    for j in range(num_colors):\n",
    "        hex_colour='#'\n",
    "        for i in range(6):\n",
    "            hex_colour=hex_colour + random.choice(\"0123456789abcdef\")\n",
    "        hex_colours.append(hex_colour)\n",
    "    return hex_colours\n",
    "print(list_of_hexa_colors(3))\n"
   ]
  },
  {
   "cell_type": "code",
   "execution_count": 158,
   "metadata": {},
   "outputs": [
    {
     "name": "stdout",
     "output_type": "stream",
     "text": [
      "['rgb(227,182,198)', 'rgb(0,248,141)', 'rgb(208,227,237)']\n"
     ]
    }
   ],
   "source": [
    "#rgb colours\n",
    "def list_of_rgb_colors(num_colors):\n",
    "    rgb_colours=[]\n",
    "    for j in range(num_colors):\n",
    "        r = random.randint(0, 255)\n",
    "        g = random.randint(0, 255)\n",
    "        b = random.randint(0, 255)\n",
    "        rgb_colour=f\"rgb({r},{g},{b})\"\n",
    "        rgb_colours.append(rgb_colour)\n",
    "    return rgb_colours\n",
    "print(list_of_rgb_colors(3))"
   ]
  },
  {
   "cell_type": "code",
   "execution_count": 164,
   "metadata": {},
   "outputs": [
    {
     "name": "stdout",
     "output_type": "stream",
     "text": [
      "hexa ['#ede9ec', '#c037b2', '#8b4b03', '#b97841']\n"
     ]
    }
   ],
   "source": [
    "#Hexa or rgb colours\n",
    "def generate_hexa_or_rgb(type,num_color):\n",
    "    if type=='rgb':\n",
    "        return list_of_rgb_colors(num_color)\n",
    "    elif type=='hexa':\n",
    "        return list_of_hexa_colors(num_color)\n",
    "    else:\n",
    "        return \"invalid colour type\"\n",
    "type=input('Enter your desired color:')\n",
    "num_color=int(input('Enter your desired number:'))\n",
    "print(type, generate_hexa_or_rgb(type,num_color))"
   ]
  },
  {
   "cell_type": "code",
   "execution_count": 167,
   "metadata": {},
   "outputs": [
    {
     "name": "stdout",
     "output_type": "stream",
     "text": [
      "original list [1, 2, 3, 4, 5, 6, 7, 8, 9]\n",
      "shuffled list [9, 2, 1, 3, 4, 6, 8, 7, 5]\n"
     ]
    }
   ],
   "source": [
    "#shuffled list\n",
    "def gen_shuffled_list(list):\n",
    "    shuffled_list=random.sample(list,len(list))\n",
    "    return shuffled_list\n",
    "list=[1,2,3,4,5,6,7,8,9]\n",
    "print(f\"original list {list}\\nshuffled list {gen_shuffled_list(list)}\")"
   ]
  },
  {
   "cell_type": "code",
   "execution_count": 168,
   "metadata": {},
   "outputs": [
    {
     "name": "stdout",
     "output_type": "stream",
     "text": [
      "[0, 1, 9, 2, 4, 3, 6]\n"
     ]
    }
   ],
   "source": [
    "# Generate seven unique random numbers\n",
    "def seven_unique_random_numbers():\n",
    "    unique_numbers=random.sample(range(10),7)\n",
    "    return unique_numbers\n",
    "print(seven_unique_random_numbers())"
   ]
  }
 ],
 "metadata": {
  "kernelspec": {
   "display_name": "datascience",
   "language": "python",
   "name": "python3"
  },
  "language_info": {
   "codemirror_mode": {
    "name": "ipython",
    "version": 3
   },
   "file_extension": ".py",
   "mimetype": "text/x-python",
   "name": "python",
   "nbconvert_exporter": "python",
   "pygments_lexer": "ipython3",
   "version": "3.8.18"
  }
 },
 "nbformat": 4,
 "nbformat_minor": 2
}
