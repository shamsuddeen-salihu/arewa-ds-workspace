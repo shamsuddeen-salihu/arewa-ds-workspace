{
 "cells": [
  {
   "cell_type": "markdown",
   "metadata": {},
   "source": [
    "Level 1"
   ]
  },
  {
   "cell_type": "code",
   "execution_count": 11,
   "metadata": {},
   "outputs": [
    {
     "name": "stdout",
     "output_type": "stream",
     "text": [
      "0\n",
      "1\n",
      "2\n",
      "3\n",
      "4\n",
      "5\n",
      "6\n",
      "7\n",
      "8\n",
      "9\n",
      "10\n",
      "0\n",
      "1\n",
      "2\n",
      "3\n",
      "4\n",
      "5\n",
      "6\n",
      "7\n",
      "8\n",
      "9\n",
      "10\n",
      "10\n",
      "9\n",
      "8\n",
      "7\n",
      "6\n",
      "5\n",
      "4\n",
      "3\n",
      "2\n",
      "1\n",
      "0\n",
      "10\n",
      "9\n",
      "8\n",
      "7\n",
      "6\n",
      "5\n",
      "4\n",
      "3\n",
      "2\n",
      "1\n",
      "0\n"
     ]
    }
   ],
   "source": [
    "#for loop\n",
    "for i in range(11):\n",
    "    print(i)\n",
    "#while loop\n",
    "number=0\n",
    "while number<=10:\n",
    "    print(number)\n",
    "    number+=1\n",
    "#10 to 0\n",
    "for i in range(10,-1,-1):\n",
    "    print(i)\n",
    "count=10\n",
    "while count>=0:\n",
    "    print(count)\n",
    "    count-=1\n"
   ]
  },
  {
   "cell_type": "markdown",
   "metadata": {},
   "source": [
    "print triangle and pattern"
   ]
  },
  {
   "cell_type": "code",
   "execution_count": 39,
   "metadata": {},
   "outputs": [
    {
     "name": "stdout",
     "output_type": "stream",
     "text": [
      "#\n",
      "##\n",
      "###\n",
      "####\n",
      "#####\n",
      "######\n",
      "#######\n",
      "\n",
      "########\n",
      "########\n",
      "########\n",
      "########\n",
      "########\n",
      "########\n",
      "########\n",
      "########\n",
      "0 x 0 = 0\n",
      "1 x 1 = 1\n",
      "2 x 2 = 4\n",
      "3 x 3 = 9\n",
      "4 x 4 = 16\n",
      "5 x 5 = 25\n",
      "6 x 6 = 36\n",
      "7 x 7 = 49\n",
      "8 x 8 = 64\n",
      "9 x 9 = 81\n",
      "10 x 10 = 100\n"
     ]
    }
   ],
   "source": [
    "#triangle\n",
    "for i in range(1,8):\n",
    "    print('#' *i)\n",
    "#nested loop\n",
    "print()\n",
    "for i in range(8):\n",
    "    for j in range(8):\n",
    "        print('#',end= '')\n",
    "    print()\n",
    "#multiplication pattern\n",
    "for i in range(11):\n",
    "    print(f\"{i} x {i} = {i*i}\")"
   ]
  },
  {
   "cell_type": "markdown",
   "metadata": {},
   "source": [
    "Q6 to 8"
   ]
  },
  {
   "cell_type": "code",
   "execution_count": 45,
   "metadata": {},
   "outputs": [
    {
     "name": "stdout",
     "output_type": "stream",
     "text": [
      "Python\n",
      "Numpy\n",
      "Pandas\n",
      "Django\n",
      "Flask\n",
      "even numbers\n",
      "0\n",
      "2\n",
      "4\n",
      "6\n",
      "8\n",
      "10\n",
      "12\n",
      "14\n",
      "16\n",
      "18\n",
      "20\n",
      "22\n",
      "24\n",
      "26\n",
      "28\n",
      "30\n",
      "32\n",
      "34\n",
      "36\n",
      "38\n",
      "40\n",
      "42\n",
      "44\n",
      "46\n",
      "48\n",
      "50\n",
      "52\n",
      "54\n",
      "56\n",
      "58\n",
      "60\n",
      "62\n",
      "64\n",
      "66\n",
      "68\n",
      "70\n",
      "72\n",
      "74\n",
      "76\n",
      "78\n",
      "80\n",
      "82\n",
      "84\n",
      "86\n",
      "88\n",
      "90\n",
      "92\n",
      "94\n",
      "96\n",
      "98\n",
      "100\n",
      "odd numbers\n",
      "1\n",
      "3\n",
      "5\n",
      "7\n",
      "9\n",
      "11\n",
      "13\n",
      "15\n",
      "17\n",
      "19\n",
      "21\n",
      "23\n",
      "25\n",
      "27\n",
      "29\n",
      "31\n",
      "33\n",
      "35\n",
      "37\n",
      "39\n",
      "41\n",
      "43\n",
      "45\n",
      "47\n",
      "49\n",
      "51\n",
      "53\n",
      "55\n",
      "57\n",
      "59\n",
      "61\n",
      "63\n",
      "65\n",
      "67\n",
      "69\n",
      "71\n",
      "73\n",
      "75\n",
      "77\n",
      "79\n",
      "81\n",
      "83\n",
      "85\n",
      "87\n",
      "89\n",
      "91\n",
      "93\n",
      "95\n",
      "97\n",
      "99\n"
     ]
    }
   ],
   "source": [
    "#print list\n",
    "skills=['Python', 'Numpy','Pandas','Django', 'Flask']\n",
    "for skill in skills:\n",
    "    print(skill)\n",
    "#print even numbers btwn 0 to 100\n",
    "print('even numbers')\n",
    "for numb in range(0,101):\n",
    "    if numb%2==0:\n",
    "        print(numb)\n",
    "#print odd numbers btwn 0 to 100\n",
    "print('odd numbers')\n",
    "for numb in range(0,101):\n",
    "    if numb%2!=0:\n",
    "        print(numb)"
   ]
  },
  {
   "cell_type": "markdown",
   "metadata": {},
   "source": [
    "Level 2"
   ]
  },
  {
   "cell_type": "code",
   "execution_count": 67,
   "metadata": {},
   "outputs": [
    {
     "name": "stdout",
     "output_type": "stream",
     "text": [
      "5050\n",
      "2550\n",
      "2500\n"
     ]
    }
   ],
   "source": [
    "#sum of all numbers from 0 to 100\n",
    "sum=0\n",
    "for numb in range(101):\n",
    "    sum=sum + numb\n",
    "print(sum)\n",
    "#sum of all even numbers 0 to 100\n",
    "sum_even=0\n",
    "for num in range(101):\n",
    "    if num%2==0:\n",
    "        sum_even=sum_even + num\n",
    "print(sum_even)\n",
    "#sum of all odd numbers 0 to 100\n",
    "sum_odd=0\n",
    "for num in range(101):\n",
    "    if num%2!=0:\n",
    "        sum_odd=sum_odd + num\n",
    "print(sum_odd)"
   ]
  },
  {
   "cell_type": "markdown",
   "metadata": {},
   "source": [
    "Leve 3"
   ]
  },
  {
   "cell_type": "code",
   "execution_count": 2,
   "metadata": {},
   "outputs": [
    {
     "name": "stdout",
     "output_type": "stream",
     "text": [
      "Finland\n",
      "Iceland\n",
      "Ireland\n",
      "Marshall Islands\n",
      "Netherlands\n",
      "New Zealand\n",
      "Poland\n",
      "Solomon Islands\n",
      "Swaziland\n",
      "Switzerland\n",
      "Thailand\n",
      "['lemon', 'mango', 'orange', 'banana']\n"
     ]
    }
   ],
   "source": [
    "\n",
    "#countries with land\n",
    "import Data.countries\n",
    "countries=Data.countries.countries\n",
    "for country in countries:\n",
    "    if 'land' in country:\n",
    "        print(country)\n",
    "#reverse fruits\n",
    "fruits=['banana', 'orange', 'mango', 'lemon']\n",
    "reversed_fruits=[]\n",
    "index = len(fruits) - 1\n",
    "while index >= 0:\n",
    "    reversed_fruits.append(fruits[index])\n",
    "    index -= 1\n",
    "print(reversed_fruits)"
   ]
  },
  {
   "cell_type": "code",
   "execution_count": 1,
   "metadata": {},
   "outputs": [
    {
     "name": "stdout",
     "output_type": "stream",
     "text": [
      "112\n",
      "Ten most spoken languages: ['English', 'French', 'Arabic', 'Spanish', 'Portuguese', 'Russian', 'Dutch', 'German', 'Chinese', 'Italian']\n",
      "Ten most populated countries:\n",
      "China \n",
      "India \n",
      "United States of America \n",
      "Indonesia \n",
      "Brazil \n",
      "Pakistan \n",
      "Nigeria \n",
      "Bangladesh \n",
      "Russian Federation \n",
      "Japan \n"
     ]
    }
   ],
   "source": [
    "\n",
    "#total number of languages\n",
    "import Data.countries_data\n",
    "countries_data=Data.countries_data.countriesData\n",
    "total_languages=set()\n",
    "for country in countries_data:\n",
    "    total_languages.update(country['languages'])\n",
    "print(len(total_languages))\n",
    "#10 most spoken languages\n",
    "all_languages = []\n",
    "for country in countries_data:\n",
    "    for language in country[\"languages\"]:\n",
    "        all_languages.append(language)\n",
    "most_spoken_languages = sorted(set(all_languages), key=lambda x: all_languages.count(x), reverse=True)[:10]\n",
    "print(\"Ten most spoken languages:\", most_spoken_languages)\n",
    "#10 most populated countries\n",
    "most_populated_countries = sorted(countries_data, key=lambda x: x[\"population\"], reverse=True)[:10]\n",
    "print(\"Ten most populated countries:\")\n",
    "for country in most_populated_countries:\n",
    "    print(f\"{country['name']} \")\n",
    "\n",
    "\n",
    "\n"
   ]
  }
 ],
 "metadata": {
  "kernelspec": {
   "display_name": "datascience",
   "language": "python",
   "name": "python3"
  },
  "language_info": {
   "codemirror_mode": {
    "name": "ipython",
    "version": 3
   },
   "file_extension": ".py",
   "mimetype": "text/x-python",
   "name": "python",
   "nbconvert_exporter": "python",
   "pygments_lexer": "ipython3",
   "version": "3.8.18"
  }
 },
 "nbformat": 4,
 "nbformat_minor": 2
}
