{
 "cells": [
  {
   "cell_type": "markdown",
   "metadata": {},
   "source": [
    "Day 14"
   ]
  },
  {
   "cell_type": "code",
   "execution_count": 25,
   "metadata": {},
   "outputs": [
    {
     "name": "stdout",
     "output_type": "stream",
     "text": [
      "[1, 8, 27, 64]\n",
      "[1, 8, 27, 64]\n",
      "[2, 4, 20, 24]\n",
      "[2, 4, 20, 24]\n",
      "10\n",
      "10\n"
     ]
    }
   ],
   "source": [
    "#map applies a given function to all the items in an iterable and return a new list with the result\n",
    "#for example;\n",
    "numbers=[1,2,3,4]\n",
    "def cube(x):\n",
    "    return x**3\n",
    "cubed_numbers=map(cube, numbers)\n",
    "print(list(cubed_numbers))\n",
    "#using lambda function\n",
    "cubed_numbers=map(lambda x: x**3, numbers)\n",
    "print(list(cubed_numbers))\n",
    "\n",
    "#filter filters element in an iterable an return a new list with the filtered element\n",
    "#for example;\n",
    "numbers=[2,4,9,20,19,15,24]\n",
    "def is_multiple_of_two(num):\n",
    "    if num%2==0:\n",
    "        return True\n",
    "    return False\n",
    "multiple_of_two=filter(is_multiple_of_two, numbers)\n",
    "print(list(multiple_of_two))\n",
    "#using lambda function\n",
    "multiple_of_two=filter(lambda x:x%2==0, numbers)\n",
    "print(list(multiple_of_two))\n",
    "\n",
    "#reduce applies a computation to elements in a list and return a single value\n",
    "#for example\n",
    "from functools import reduce\n",
    "numbers=[1,2,3,4]\n",
    "def add_numbers(x,y):\n",
    "    return x + y\n",
    "sum_of_numbers=reduce(add_numbers,numbers)\n",
    "print(sum_of_numbers)\n",
    "#using lambda\n",
    "sum_of_numbers= reduce(lambda x,y: x + y,numbers)\n",
    "print(sum_of_numbers)\n"
   ]
  },
  {
   "cell_type": "code",
   "execution_count": 38,
   "metadata": {},
   "outputs": [
    {
     "name": "stdout",
     "output_type": "stream",
     "text": [
      "6\n",
      "15\n",
      "SHAMSUDDEEN\n"
     ]
    }
   ],
   "source": [
    "#Higher order function is a function that takes one or more functions as parameter and return a function as a result\n",
    "#for example \n",
    "def multiply_by_two(number):\n",
    "    return number*2\n",
    "def multiply_by(numb):\n",
    "    return multiply_by_two(numb)\n",
    "result=multiply_by(3)\n",
    "print(result)\n",
    "\n",
    "#A closure is a function object that has access to variables in its outer scope, even after the scope has finished execution.\n",
    "#for example\n",
    "def multiply_by_ten():\n",
    "    ten=10\n",
    "    def multiply(num):\n",
    "        return num + ten\n",
    "    return multiply\n",
    "result=multiply_by_ten()\n",
    "print(result(5))\n",
    "\n",
    "#A decorator is a function that takes another function and extends or modifies the behavior of the latter function.\n",
    "#for example\n",
    "def my_name():\n",
    "    return 'Shamsuddeen'\n",
    "def uppercaase_decorator(function):\n",
    "    def wrapper():\n",
    "        func=function()\n",
    "        make_uppercase=func.upper()\n",
    "        return make_uppercase\n",
    "    return wrapper\n",
    "name=uppercaase_decorator(my_name)\n",
    "print(name())"
   ]
  },
  {
   "cell_type": "code",
   "execution_count": 30,
   "metadata": {},
   "outputs": [
    {
     "name": "stdout",
     "output_type": "stream",
     "text": [
      "Estonia\n",
      "Finland\n",
      "Sweden\n",
      "Denmark\n",
      "Norway\n",
      "Iceland\n",
      "Asabeneh\n",
      "Lidiya\n",
      "Ermias\n",
      "Abraham\n",
      "1\n",
      "2\n",
      "3\n",
      "4\n",
      "5\n",
      "6\n",
      "7\n",
      "8\n",
      "9\n",
      "10\n"
     ]
    }
   ],
   "source": [
    "#print list\n",
    "countries = ['Estonia', 'Finland', 'Sweden', 'Denmark', 'Norway', 'Iceland']\n",
    "names = ['Asabeneh', 'Lidiya', 'Ermias', 'Abraham']\n",
    "numbers = [1, 2, 3, 4, 5, 6, 7, 8, 9, 10]\n",
    "for country in countries:\n",
    "    print(country)\n",
    "for name in names:\n",
    "    print(name)\n",
    "for numb in numbers:\n",
    "    print(numb)\n"
   ]
  },
  {
   "cell_type": "markdown",
   "metadata": {},
   "source": [
    "Level 2"
   ]
  },
  {
   "cell_type": "code",
   "execution_count": 28,
   "metadata": {},
   "outputs": [
    {
     "name": "stdout",
     "output_type": "stream",
     "text": [
      "['ESTONIA', 'FINLAND', 'SWEDEN', 'DENMARK', 'NORWAY', 'ICELAND']\n",
      "[1, 4, 9, 16, 25, 36, 49, 64, 81, 100]\n",
      "['ASABENEH', 'LIDIYA', 'ERMIAS', 'ABRAHAM']\n",
      "['Finland', 'Iceland']\n",
      "['Sweden', 'Norway']\n",
      "['Estonia']\n",
      "55\n",
      "220\n",
      "Estonia,Finland,Sweden,Denmark,Norway,Iceland are north European countries\n"
     ]
    }
   ],
   "source": [
    "countries = ['Estonia', 'Finland', 'Sweden', 'Denmark', 'Norway', 'Iceland']\n",
    "names = ['Asabeneh', 'Lidiya', 'Ermias', 'Abraham']\n",
    "numbers = [1, 2, 3, 4, 5, 6, 7, 8, 9, 10]\n",
    "#countries to uppercase\n",
    "uppercase_countries=map(lambda x:x.upper(), countries)\n",
    "print(list(uppercase_countries))\n",
    "\n",
    "#squared numbers\n",
    "squared_numbers=map(lambda x:x**2,numbers)\n",
    "print(list(squared_numbers))\n",
    "\n",
    "#uppercase names\n",
    "uppercase_names=map(lambda x:x.upper(),names)\n",
    "print(list(uppercase_names))\n",
    "\n",
    "#filter countries with land\n",
    "def land_filtered(country):\n",
    "    if 'land' in country:\n",
    "         return True\n",
    "filtered=filter(land_filtered,countries)\n",
    "print(list(filtered))\n",
    "\n",
    "#six character countries\n",
    "six_character_countries=filter(lambda x:len(x)==6, countries)\n",
    "print(list(six_character_countries))\n",
    "\n",
    "#countries starting with E\n",
    "countries_start_E=filter(lambda x:x[0]=='E', countries)\n",
    "print(list(countries_start_E))\n",
    "\n",
    "#sum numbers\n",
    "from functools import reduce\n",
    "sum_of_numbers=reduce(lambda x,y: x+y, numbers)\n",
    "print(sum_of_numbers)\n",
    "\n",
    "#chain\n",
    "result = reduce(lambda x,y:x+y, filter(lambda x: x % 2 == 0, map(lambda x: x**2, numbers)))   \n",
    "print(result)\n",
    "\n",
    "#concatenate countries\n",
    "conc_countries=reduce(lambda x,y:x+','+y, countries)\n",
    "print(conc_countries,'are north European countries')"
   ]
  },
  {
   "cell_type": "code",
   "execution_count": 42,
   "metadata": {},
   "outputs": [
    {
     "name": "stdout",
     "output_type": "stream",
     "text": [
      "['Finland', 'Iceland', 'Ireland', 'Marshall Islands', 'Netherlands', 'New Zealand', 'Poland', 'Solomon Islands', 'Swaziland', 'Switzerland', 'Thailand']\n",
      "['Albania', 'Algeria', 'Armenia', 'Australia', 'Austria', 'Bolivia', 'Bosnia and Herzegovina', 'Bulgaria', 'Cambodia', 'Croatia', 'Equatorial Guinea', 'Estonia', 'Ethiopia', 'Gambia, The', 'Georgia', 'India', 'Indonesia', 'Latvia', 'Liberia', 'Lithuania', 'Macedonia', 'Malaysia', 'Mauritania', 'Micronesia', 'Mongolia', 'Namibia', 'Nigeria', 'Romania', 'Russia', 'Saint Lucia', 'Saudi Arabia', 'Serbia and Montenegro', 'Slovakia', 'Slovenia', 'Somalia', 'Syria', 'Tanzania', 'Tunisia', 'Zambia']\n"
     ]
    }
   ],
   "source": [
    "#categorize countries\n",
    "from Data import countries\n",
    "\n",
    "def categorize_countries(pattern):\n",
    "    category=[country for country in countries.countries if pattern in country]\n",
    "    return category\n",
    "print(categorize_countries('land'))\n",
    "print(categorize_countries('ia'))\n",
    "\n",
    "#dictionary\n"
   ]
  }
 ],
 "metadata": {
  "kernelspec": {
   "display_name": "datascience",
   "language": "python",
   "name": "python3"
  },
  "language_info": {
   "codemirror_mode": {
    "name": "ipython",
    "version": 3
   },
   "file_extension": ".py",
   "mimetype": "text/x-python",
   "name": "python",
   "nbconvert_exporter": "python",
   "pygments_lexer": "ipython3",
   "version": "3.8.18"
  }
 },
 "nbformat": 4,
 "nbformat_minor": 2
}
