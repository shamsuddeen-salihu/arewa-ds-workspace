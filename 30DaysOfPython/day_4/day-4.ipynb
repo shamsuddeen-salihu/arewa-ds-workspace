{
 "cells": [
  {
   "cell_type": "code",
   "execution_count": 6,
   "metadata": {},
   "outputs": [
    {
     "name": "stdout",
     "output_type": "stream",
     "text": [
      "'Thirty', 'Days', 'Of', 'Python' Thirty Days Of Python\n",
      "'Coding', 'For' , 'All' Coding For All\n"
     ]
    }
   ],
   "source": [
    "#concatenation\n",
    "print(\"'Thirty', 'Days', 'Of', 'Python'\" + ' ' + 'Thirty Days Of Python')\n",
    "print(\"'Coding', 'For' , 'All'\" + ' ' +  'Coding For All')"
   ]
  },
  {
   "cell_type": "markdown",
   "metadata": {},
   "source": [
    "Strings"
   ]
  },
  {
   "cell_type": "code",
   "execution_count": 14,
   "metadata": {},
   "outputs": [
    {
     "name": "stdout",
     "output_type": "stream",
     "text": [
      "Coding For All\n",
      "14\n",
      "CODING FOR ALL\n",
      "coding for all\n",
      "Coding for all\n",
      "Coding For All\n",
      "cODING fOR aLL\n",
      "Coding\n",
      "0\n",
      "0\n",
      "Python For All\n",
      "['Coding', 'For', 'All']\n",
      "['Facebook', ' Google', ' Microsoft', ' Apple', ' IBM', ' Oracle', ' Amazon']\n",
      "C\n",
      "13\n",
      " \n",
      "PFE\n",
      "CFA\n",
      "0\n",
      "7\n",
      "19\n",
      "31\n",
      "31\n",
      "47\n",
      "because because because\n",
      "True\n",
      "False\n",
      "Coding For All\n",
      "False\n",
      "True\n",
      "Django Flask Bottle Pyramid Falcon\n"
     ]
    }
   ],
   "source": [
    "company=\"Coding For All\"\n",
    "print(company)\n",
    "print(len(company))\n",
    "print(company.upper())\n",
    "print(company.lower())\n",
    "print(company.capitalize())\n",
    "print(company.title())\n",
    "print(company.swapcase())\n",
    "print(company[0:6])\n",
    "print(company.index('Coding'))\n",
    "print(company.find('Coding'))\n",
    "print(company.replace('Coding','Python'))\n",
    "print(company.split(' '))\n",
    "tech=\"Facebook, Google, Microsoft, Apple, IBM, Oracle, Amazon\"\n",
    "print(tech.split(','))\n",
    "print(company[0])\n",
    "print(len(company) - 1)\n",
    "print(company[10])\n",
    "course_1=\"Python For Everyone\"\n",
    "print(course_1[0:8:7] + course_1[11])\n",
    "print(company[0:8:7] + company[11])\n",
    "print(company.index('C'))\n",
    "print(company.index('F'))\n",
    "print(\"Coding for All People\".rindex('l'))\n",
    "print(\"You cannot end a sentence with because because because is a conjunction\".index('because'))\n",
    "print(\"You cannot end a sentence with because because because is a conjunction\".find('because'))\n",
    "print(\"You cannot end a sentence with because because because is a conjunction\".rindex('because'))\n",
    "print(\"You cannot end a sentence with because because because is a conjunction\"[31:54])\n",
    "print(company.startswith('Coding'))\n",
    "print(company.endswith('Coding'))\n",
    "print('   Coding For All      ' .strip())\n",
    "print('30DaysOfPython'.isidentifier())\n",
    "print('thirty_days_of_python'.isidentifier())\n",
    "py_libraries=['Django', 'Flask', 'Bottle', 'Pyramid', 'Falcon']\n",
    "print(' '.join(py_libraries))"
   ]
  },
  {
   "cell_type": "markdown",
   "metadata": {},
   "source": [
    "Excape sequence & formating"
   ]
  },
  {
   "cell_type": "code",
   "execution_count": 36,
   "metadata": {},
   "outputs": [
    {
     "name": "stdout",
     "output_type": "stream",
     "text": [
      "I am enjoying this challenge.\n",
      "I just wonder what is next.\n",
      "Name\t\tAge\tCountry\t\tCity\n",
      "Asabeneh\t250\tFinland\t\tHelsinki\n",
      "The area of a circle with radius 10 is 314.20 meters square.\n",
      "8 + 6 = 14\n",
      "8 - 6 = 2\n",
      "8 * 6 = 48\n",
      "8 / 6 = 1.33\n",
      "8 % 6 = 2\n",
      "8 // 6 = 1\n",
      "8 ** 6 = 262144\n"
     ]
    }
   ],
   "source": [
    "print(\"I am enjoying this challenge.\\nI just wonder what is next.\")\n",
    "print('Name\\t\\tAge\\tCountry\\t\\tCity')\n",
    "print('Asabeneh\\t250\\tFinland\\t\\tHelsinki')\n",
    "\n",
    "radius = 10\n",
    "area= 3.142 * radius ** 2\n",
    "print('The area of a circle with radius {} is {:.2f} meters square.'.format(radius,area))\n",
    "\n",
    "a=8\n",
    "b=6\n",
    "print('{} + {} = {}'.format(a,b,a+b))\n",
    "print('{} - {} = {}'.format(a,b,a-b))\n",
    "print('{} * {} = {}'.format(a,b,a*b))\n",
    "print('{} / {} = {:.2f}'.format(a,b,a/b))\n",
    "print('{} % {} = {}'.format(a,b,a%b))\n",
    "print('{} // {} = {}'.format(a,b,a//b))\n",
    "print('{} ** {} = {}'.format(a,b,a**b))"
   ]
  }
 ],
 "metadata": {
  "kernelspec": {
   "display_name": "datascience",
   "language": "python",
   "name": "python3"
  },
  "language_info": {
   "codemirror_mode": {
    "name": "ipython",
    "version": 3
   },
   "file_extension": ".py",
   "mimetype": "text/x-python",
   "name": "python",
   "nbconvert_exporter": "python",
   "pygments_lexer": "ipython3",
   "version": "3.8.18"
  }
 },
 "nbformat": 4,
 "nbformat_minor": 2
}
