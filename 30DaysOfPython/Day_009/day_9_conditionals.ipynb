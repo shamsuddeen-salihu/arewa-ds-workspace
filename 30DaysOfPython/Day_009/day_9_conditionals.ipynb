{
 "cells": [
  {
   "cell_type": "markdown",
   "metadata": {},
   "source": [
    "Exercises day 9"
   ]
  },
  {
   "cell_type": "code",
   "execution_count": 12,
   "metadata": {},
   "outputs": [
    {
     "name": "stdout",
     "output_type": "stream",
     "text": [
      "age: 15\n",
      "you need 3 more years to learn to drive\n"
     ]
    }
   ],
   "source": [
    "age=int(input('Enter your age:'))\n",
    "print('age:',age)\n",
    "if age>=18:\n",
    "    print('you are old enough to drive')\n",
    "else:\n",
    "    print('you need',18-age,'more year to learn to drive')if age==17 else print('you need',18-age,'more years to learn to drive')"
   ]
  },
  {
   "cell_type": "code",
   "execution_count": 16,
   "metadata": {},
   "outputs": [
    {
     "name": "stdout",
     "output_type": "stream",
     "text": [
      "you are 2 years older than me\n"
     ]
    }
   ],
   "source": [
    "your_age=int(input('Enter your age'))\n",
    "my_age=25\n",
    "if your_age>25:\n",
    "    if your_age-my_age==1:\n",
    "        print('you are', your_age - my_age, 'year older than me')\n",
    "    else:\n",
    "        print('you are', your_age - my_age, 'years older than me')\n",
    "elif my_age==your_age:\n",
    "    print('we are age mate')\n",
    "else:\n",
    "    print('I am older than you')\n",
    "\n"
   ]
  },
  {
   "cell_type": "code",
   "execution_count": 19,
   "metadata": {},
   "outputs": [
    {
     "name": "stdout",
     "output_type": "stream",
     "text": [
      "2 is equal to 2\n"
     ]
    }
   ],
   "source": [
    "a=int(input('Enter number one'))\n",
    "b=int(input('Enter number two'))\n",
    "if a>b:\n",
    "    print(a,'is greater than', b)\n",
    "elif a<b:\n",
    "    print(a, 'is smaller than', b)\n",
    "else:\n",
    "    print(a,'is equal to', b)"
   ]
  },
  {
   "cell_type": "markdown",
   "metadata": {},
   "source": [
    "Level 2"
   ]
  },
  {
   "cell_type": "code",
   "execution_count": 29,
   "metadata": {},
   "outputs": [
    {
     "name": "stdout",
     "output_type": "stream",
     "text": [
      "Student Score: 80.0\n",
      "student Grade:A\n"
     ]
    }
   ],
   "source": [
    "#student grade\n",
    "student_score=float(input('Enter student score:'))\n",
    "print('Student Score:', student_score)\n",
    "if student_score<=100:\n",
    "    if student_score>=80:\n",
    "        print('student Grade:A')\n",
    "    elif student_score>=70 and student_score<=79:\n",
    "        print('student Grade:B')\n",
    "    elif student_score>=60 and student_score<=69:\n",
    "        print('student Grade:C')\n",
    "    elif student_score>=50 and student_score<=59:\n",
    "        print('student Grade:D')\n",
    "    else:\n",
    "        print('student Grade:F')\n",
    "else:\n",
    "    print('The score is above range!')\n"
   ]
  },
  {
   "cell_type": "code",
   "execution_count": 43,
   "metadata": {},
   "outputs": [
    {
     "name": "stdout",
     "output_type": "stream",
     "text": [
      "March\n",
      "The season is Spring\n"
     ]
    }
   ],
   "source": [
    "#season checker\n",
    "month=input(\"Enter the month:\")\n",
    "print(month)\n",
    "if month in ['September', 'October', 'November']:\n",
    "    print('The season is Autumn')\n",
    "elif month in ['December','January' ,'February']:\n",
    "    print('The season is Winter')\n",
    "elif month in ['March', 'April', 'May']:\n",
    "    print('The season is Spring')  \n",
    "elif month in ['June' ,'July', 'August']:\n",
    "    print('The season is Summer') \n",
    "else:\n",
    "    print('invalid month') "
   ]
  },
  {
   "cell_type": "code",
   "execution_count": 46,
   "metadata": {},
   "outputs": [
    {
     "name": "stdout",
     "output_type": "stream",
     "text": [
      "added fruit: pineapple\n",
      "['banana', 'orange', 'mango', 'lemon', 'pineapple']\n"
     ]
    }
   ],
   "source": [
    "#fruit check\n",
    "fruits = ['banana', 'orange', 'mango', 'lemon']\n",
    "check_fruits=input(\"Enter the fruit:\")\n",
    "if check_fruits in fruits:\n",
    "    print('fruit already exist')\n",
    "else:\n",
    "    fruits.append(check_fruits)\n",
    "    print('added fruit:',check_fruits)\n",
    "    print(fruits)"
   ]
  },
  {
   "cell_type": "markdown",
   "metadata": {},
   "source": [
    "Level 3"
   ]
  },
  {
   "cell_type": "code",
   "execution_count": 92,
   "metadata": {},
   "outputs": [
    {
     "name": "stdout",
     "output_type": "stream",
     "text": [
      "Node\n",
      "person has Pyhon skill\n",
      "Unknown title\n",
      "Asabeneh Yetayeh lives in Finland. He is married.\n"
     ]
    }
   ],
   "source": [
    "person={\n",
    "    'first_name': 'Asabeneh',\n",
    "    'last_name': 'Yetayeh',\n",
    "    'age': 250,\n",
    "    'country': 'Finland',\n",
    "    'is_married': True,\n",
    "    'skills': ['JavaScript', 'React', 'Node', 'MongoDB', 'Python'],\n",
    "    'address': {\n",
    "        'street': 'Space street',\n",
    "        'zipcode': '02210'\n",
    "    }\n",
    "    }\n",
    "#check skills in person\n",
    "if 'skills' in person:\n",
    "    #print middle in skills\n",
    "    skills_list=person['skills']\n",
    "    if len(skills_list) % 2 !=0:\n",
    "        middle_skill=skills_list[len(skills_list) // 2]\n",
    "        print(middle_skill)\n",
    "    #check if pthon in skills\n",
    "    if 'Python' in skills_list:\n",
    "        print('person has Pyhon skill')\n",
    "    else:\n",
    "        print('person has no Python skill')\n",
    "    #check the person skill based\n",
    "    if skills_list==['JavaScript', 'React']:\n",
    "        print(\"He is a front-end developer\")\n",
    "    elif skills_list==['Node', 'Python', 'MongoDB']:\n",
    "        print(\"He is a back-end developer\")\n",
    "    elif skills_list==['React', 'Node', 'MongoDB']:\n",
    "        print(\"He is a full-stack developer\")\n",
    "    else:\n",
    "        print(\"Unknown title\")\n",
    "else:\n",
    "    print(\"No skills in person\")\n",
    " #check marriage\n",
    "if person['is_married'] and person['country'] == 'Finland':\n",
    "        print(f\"{person['first_name']} {person['last_name']} lives in {person['country']}. He is married.\")\n"
   ]
  }
 ],
 "metadata": {
  "kernelspec": {
   "display_name": "datascience",
   "language": "python",
   "name": "python3"
  },
  "language_info": {
   "codemirror_mode": {
    "name": "ipython",
    "version": 3
   },
   "file_extension": ".py",
   "mimetype": "text/x-python",
   "name": "python",
   "nbconvert_exporter": "python",
   "pygments_lexer": "ipython3",
   "version": "3.8.18"
  }
 },
 "nbformat": 4,
 "nbformat_minor": 2
}
