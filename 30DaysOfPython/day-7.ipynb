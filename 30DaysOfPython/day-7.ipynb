{
 "cells": [
  {
   "cell_type": "markdown",
   "metadata": {},
   "source": [
    "Level 1"
   ]
  },
  {
   "cell_type": "code",
   "execution_count": 28,
   "metadata": {},
   "outputs": [
    {
     "name": "stdout",
     "output_type": "stream",
     "text": [
      "7\n",
      "{'Amazon', 'Google', 'Facebook', 'Oracle', 'Apple', 'IBM', 'Twitter', 'Microsoft'}\n",
      "{'Amazon', 'Hp', 'Google', 'Facebook', 'Oracle', 'Intel', 'Apple', 'IBM', 'Twitter', 'Microsoft', 'Dell'}\n",
      "{'Amazon', 'Hp', 'Facebook', 'Oracle', 'Intel', 'Apple', 'IBM', 'Twitter', 'Microsoft', 'Dell'}\n",
      "{19, 20, 22, 24, 25, 26, 27, 28}\n",
      "{19, 20, 22, 24, 25, 26}\n",
      "False\n",
      "{19, 20, 22, 24, 25, 26, 27, 28}\n",
      "{27, 28}\n",
      "True\n",
      "8\n",
      "5\n"
     ]
    }
   ],
   "source": [
    "# sets\n",
    "it_companies = {'Facebook', 'Google', 'Microsoft', 'Apple', 'IBM', 'Oracle', 'Amazon'}\n",
    "A = {19, 22, 24, 20, 25, 26}\n",
    "B = {19, 22, 20, 25, 26, 24, 28, 27}\n",
    "age = [22, 19, 24, 25, 26, 24, 25, 24]\n",
    "print(len(it_companies))\n",
    "it_companies.add('Twitter')\n",
    "print(it_companies)\n",
    "it_companies.update(['Intel','Hp','Dell'])\n",
    "print(it_companies)\n",
    "it_companies.remove('Google')\n",
    "print(it_companies)\n",
    "#discard does not raise an error \n",
    "#level 2\n",
    "print(A.union(B))\n",
    "print(A.intersection(B))\n",
    "print(A.isdisjoint(B))\n",
    "print(A.union(B).union(A))\n",
    "print(A.symmetric_difference(B))\n",
    "del A,B\n",
    "#Level 3\n",
    "age_set=set(age)\n",
    "print(len(age)>len(age_set))"
   ]
  }
 ],
 "metadata": {
  "kernelspec": {
   "display_name": "datascience",
   "language": "python",
   "name": "python3"
  },
  "language_info": {
   "codemirror_mode": {
    "name": "ipython",
    "version": 3
   },
   "file_extension": ".py",
   "mimetype": "text/x-python",
   "name": "python",
   "nbconvert_exporter": "python",
   "pygments_lexer": "ipython3",
   "version": "3.8.18"
  }
 },
 "nbformat": 4,
 "nbformat_minor": 2
}
